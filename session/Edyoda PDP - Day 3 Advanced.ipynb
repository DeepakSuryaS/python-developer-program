{
 "cells": [
  {
   "cell_type": "markdown",
   "metadata": {},
   "source": [
    "# Functional Programming\n",
    "\n",
    "- map\n",
    "    - Applies the given function to each item in the iterable(s) and returns a list of results (map object).\n",
    "    - syntax:\n",
    "        - map(function, iterable(s), ...)\n",
    "    - The returned value from map() (map object) then can be passed to functions like list() (to create a list), set() (to create a set) and so on.\n",
    "    - output will always be the same length as the input\n",
    "- filter\n",
    "    - The filter() method constructs an iterator from elements of an iterable for which a function returns true. In simple words, the filter() method filters the given iterable with the help of a function that tests each element in the iterable to be true or not.\n",
    "    - syntax:\n",
    "        - filter(function, iterable)\n",
    "    - The filter() method returns an iterator that passed the function check for each element in the iterable.\n",
    "    - Even without the first parameter (a function) to filter the falsy values out, filter() will filter out falsy values if any is present in the provided iterable. Meaning that filter() can work standalone with an iterable.\n",
    "- lambda\n",
    "    - aka anonymous function (a function without a name)\n",
    "    - lambda keyword is used instead of def keyword for defining functions\n",
    "    - Lambda functions can have any number of arguments but only one expression. The expression is evaluated and returned. Lambda functions can be used wherever function objects are required.\n",
    "    - syntax:\n",
    "        - lambda arguments: expression\n",
    "    \n",
    "\n",
    "Anything that can be solved using comprehension can also be solved using map, filter, and lambda. But map, filter, and lambda are much faster. (comprehension is faster than for loops)"
   ]
  },
  {
   "cell_type": "code",
   "execution_count": 6,
   "metadata": {},
   "outputs": [
    {
     "name": "stdout",
     "output_type": "stream",
     "text": [
      "[1, 4, 9, 16, 25]\n",
      "[7, 9, 11, 13, 15]\n",
      "[False, True, False, True, False]\n"
     ]
    }
   ],
   "source": [
    "# map programs\n",
    "\n",
    "def sqr(n):\n",
    "    return n*n\n",
    "\n",
    "l = [1,2,3,4,5]\n",
    "result = list(map(sqr, l))\n",
    "print(result)\n",
    "\n",
    "def add(a, b):\n",
    "    return a + b\n",
    "\n",
    "l2 = [6,7,8,9,10]\n",
    "result = list(map(add, l, l2))\n",
    "print(result)\n",
    "\n",
    "def even_or_odd(n):\n",
    "    if(n % 2 == 0):\n",
    "        return True\n",
    "    else:\n",
    "        return False\n",
    "result = list(map(even_or_odd, l))\n",
    "print(result)"
   ]
  },
  {
   "cell_type": "code",
   "execution_count": 8,
   "metadata": {},
   "outputs": [
    {
     "name": "stdout",
     "output_type": "stream",
     "text": [
      "[2, 4]\n"
     ]
    }
   ],
   "source": [
    "# filter programs\n",
    "\n",
    "def even_or_odd(n):\n",
    "    if(n % 2 == 0):\n",
    "        return True\n",
    "    else:\n",
    "        return False\n",
    "result = list(filter(even_or_odd, l)) # filters the falsy values and returns an iterable\n",
    "print(result)"
   ]
  },
  {
   "cell_type": "code",
   "execution_count": 12,
   "metadata": {},
   "outputs": [
    {
     "name": "stdout",
     "output_type": "stream",
     "text": [
      "25\n",
      "[1, 4, 9, 16, 25, 36]\n",
      "[2, 4, 6]\n",
      "[(5, 10), (1, 20), (2, 30), (3, 40), (8, 50)]\n"
     ]
    }
   ],
   "source": [
    "# lambda functions\n",
    "\n",
    "sqr = lambda x: x*x\n",
    "\n",
    "print(sqr(5))\n",
    "\n",
    "l = [1,2,3,4,5,6]\n",
    "result = list(map(lambda i: i * i, l))\n",
    "print(result)\n",
    "\n",
    "result = list(filter(lambda i: i % 2 == 0, l))\n",
    "print(result)\n",
    "\n",
    "# sorting dictionary based on values\n",
    "d = {8:50, 3:40, 2:30, 1:20, 5:10}\n",
    "\n",
    "result = sorted(d.items(), key = lambda i: i[1]) # i[0]->key, i[1]->value; the key parameter taken by the sorted method is returning the values on which the dict will be sorted on\n",
    "print(result)"
   ]
  },
  {
   "cell_type": "markdown",
   "metadata": {},
   "source": [
    "## Generators\n",
    "\n",
    "A generator is a function that returns an object (iterator) which we can iterate over (one value at a time).\n",
    "\n",
    "There is a lot of overhead in building an iterator in Python; we have to implement a class with __iter__() and __next__() method, keep track of internal states, raise StopIteration when there was no values to be returned etc.\n",
    "\n",
    "This is both lengthy and counter intuitive. Generator comes into rescue in such situations.\n",
    "\n",
    "Python generators are a simple way of creating iterators. All the overhead we mentioned above are automatically handled by generators in Python.\n",
    "\n",
    "It is fairly simple to create a generator in Python. It is as easy as defining a normal function with yield statement instead of a return statement.\n",
    "\n",
    "If a function contains at least one yield statement (it may contain other yield or return statements), it becomes a generator function. Both yield and return will return some value from a function.\n",
    "\n",
    "The difference is that, while a return statement terminates a function entirely, yield statement pauses the function saving all its states and later continues from there on successive calls.\n",
    "\n",
    "Difference between a regular function and a generator function:\n",
    "- Generator function contains one or more yield statement.\n",
    "- When called, it returns an object (iterator) but does not start execution immediately.\n",
    "- Methods like __iter__() and __next__() are implemented automatically. So we can iterate through the items using next().\n",
    "- Once the function yields, the function is paused and the control is transferred to the caller.\n",
    "- Local variables and their states are remembered between successive calls. But in a regular function, states are not maintained.\n",
    "- Finally, when the function terminates, StopIteration is raised automatically on further calls.\n",
    "\n",
    "Generators usage will save memory because instead of generating an entire sequence of results, we're generating results one by one as required.\n"
   ]
  },
  {
   "cell_type": "code",
   "execution_count": 25,
   "metadata": {},
   "outputs": [
    {
     "name": "stdout",
     "output_type": "stream",
     "text": [
      "<generator object fibo at 0x7f7ff41e6850>\n",
      "0\n",
      "1\n",
      "1\n",
      "2\n",
      "3\n",
      "5\n",
      "8\n",
      "13\n",
      "21\n",
      "34\n",
      "generators maintain state, hence the next number is\n",
      "55\n",
      "89\n",
      "144\n",
      "233\n",
      "377\n",
      "610\n",
      "987\n",
      "1597\n",
      "2584\n",
      "4181\n",
      "\n",
      "\n",
      "print_val()\n",
      "1\n",
      "2\n",
      "3\n",
      "4\n",
      "5\n"
     ]
    },
    {
     "ename": "StopIteration",
     "evalue": "",
     "output_type": "error",
     "traceback": [
      "\u001b[0;31m---------------------------------------------------------------------------\u001b[0m",
      "\u001b[0;31mStopIteration\u001b[0m                             Traceback (most recent call last)",
      "\u001b[0;32m<ipython-input-25-e02a074efb4e>\u001b[0m in \u001b[0;36m<module>\u001b[0;34m\u001b[0m\n\u001b[1;32m     32\u001b[0m \u001b[0mprint\u001b[0m\u001b[0;34m(\u001b[0m\u001b[0mnext\u001b[0m\u001b[0;34m(\u001b[0m\u001b[0mo\u001b[0m\u001b[0;34m)\u001b[0m\u001b[0;34m)\u001b[0m\u001b[0;34m\u001b[0m\u001b[0;34m\u001b[0m\u001b[0m\n\u001b[1;32m     33\u001b[0m \u001b[0mprint\u001b[0m\u001b[0;34m(\u001b[0m\u001b[0mnext\u001b[0m\u001b[0;34m(\u001b[0m\u001b[0mo\u001b[0m\u001b[0;34m)\u001b[0m\u001b[0;34m)\u001b[0m\u001b[0;34m\u001b[0m\u001b[0;34m\u001b[0m\u001b[0m\n\u001b[0;32m---> 34\u001b[0;31m \u001b[0mprint\u001b[0m\u001b[0;34m(\u001b[0m\u001b[0mnext\u001b[0m\u001b[0;34m(\u001b[0m\u001b[0mo\u001b[0m\u001b[0;34m)\u001b[0m\u001b[0;34m)\u001b[0m \u001b[0;31m# this will throw an error because the iterable length has exceeded now\u001b[0m\u001b[0;34m\u001b[0m\u001b[0;34m\u001b[0m\u001b[0m\n\u001b[0m",
      "\u001b[0;31mStopIteration\u001b[0m: "
     ]
    }
   ],
   "source": [
    "# generator example program\n",
    "\n",
    "def fibo():\n",
    "    first, second = 0, 1\n",
    "    yield first\n",
    "    yield second\n",
    "    while(1):\n",
    "        next_val = first + second\n",
    "        yield next_val\n",
    "        first, second = second, next_val\n",
    "\n",
    "o = fibo()\n",
    "print(o)\n",
    "\n",
    "for i in range(10):\n",
    "    print(next(o))\n",
    "    \n",
    "print('generators maintain state, hence the next number is')\n",
    "for i in range(10):\n",
    "    print(next(o))\n",
    "    \n",
    "def print_val(l):\n",
    "    for v in l:\n",
    "        yield v\n",
    "        \n",
    "l = [1,2,3,4,5]\n",
    "print('\\n\\nprint_val()')\n",
    "o = print_val(l)\n",
    "print(next(o))\n",
    "print(next(o))\n",
    "print(next(o))\n",
    "print(next(o))\n",
    "print(next(o))\n",
    "print(next(o)) # this will throw an error because the iterable length has exceeded now"
   ]
  },
  {
   "cell_type": "code",
   "execution_count": 26,
   "metadata": {},
   "outputs": [
    {
     "name": "stdout",
     "output_type": "stream",
     "text": [
      "1\n",
      "4\n",
      "9\n"
     ]
    }
   ],
   "source": [
    "l = [1,2,3,4,5]\n",
    "l2 = (v*v for v in l) # generator comprehension\n",
    "\n",
    "print(next(l2))\n",
    "print(next(l2))\n",
    "print(next(l2))"
   ]
  },
  {
   "cell_type": "markdown",
   "metadata": {},
   "source": [
    "## Iterators\n",
    "\n",
    "Iterators are better and faster than normal datatypes that are iterable.\n",
    "\n",
    "In the itertools module,\n",
    "- chain(iterater)              -> chains two or more iterables into one\n",
    "- cycle(iterator)              -> cycles through iterable until broken (infinite, requires break condition)\n",
    "- repeat(iterator)             -> entire iterable as an element (infinite, requires break condition)\n",
    "- islice(iterator, start, end) -> slicing in interators\n",
    "- count(start, increment_val)  -> infinitely generates numbers\n",
    "- permutations(iterator, size) -> returns all permutations of length 'size'\n",
    "- combinations(iterator, size) -> returns all combinations of length 'size'\n",
    "Size is the number of elements to be selected at once.\n",
    "\n",
    "Permutation : It is the different arrangements of a given number of elements taken one by one, or some, or all at a time. For example, if we have two elements A and B, then there are two possible arrangements, AB and BA.\n",
    "Number of permutations when ‘r’ elements are arranged out of a total of ‘n’ elements is n Pr = n! / (n – r)!. For example, let n = 4 (A, B, C and D) and r = 2 (All permutations of size 2). The answer is 4!/(4-2)! = 12. The twelve permutations are AB, AC, AD, BA, BC, BD, CA, CB, CD, DA, DB and DC.\n",
    "\n",
    "Combination : It is the different selections of a given number of elements taken one by one, or some, or all at a time. For example, if we have two elements A and B, then there is only one way select two items, we select both of them.\n",
    "Number of combinations when ‘r’ elements are selected out of a total of ‘n’ elements is n C r = n! / [ (r !) x (n – r)! ]. For example, let n = 4 (A, B, C and D) and r = 2 (All combinations of size 2). The answer is 4!/((4-2)!*2!) = 6. The six combinations are AB, AC, AD, BC, BD, CD.\n",
    "n C r = n C (n – r)"
   ]
  },
  {
   "cell_type": "code",
   "execution_count": 52,
   "metadata": {},
   "outputs": [
    {
     "name": "stdout",
     "output_type": "stream",
     "text": [
      "1\n",
      "2\n",
      "3\n",
      "4\n",
      "5\n",
      "10\n",
      "20\n",
      "30\n",
      "40\n",
      "50\n",
      "60\n",
      "70\n",
      "80\n",
      "90\n",
      "100\n",
      "110\n",
      "120\n",
      "11\n",
      "22\n",
      "33\n",
      "44\n",
      "55\n",
      "11\n",
      "22\n",
      "33\n",
      "44\n",
      "55\n",
      "11\n",
      "22\n",
      "[11, 22, 33, 44, 55]\n",
      "[11, 22, 33, 44, 55]\n",
      "[11, 22, 33, 44, 55]\n",
      "[11, 22, 33, 44, 55]\n",
      "[11, 22, 33, 44, 55]\n",
      "[11, 22, 33, 44, 55]\n",
      "[11, 22, 33, 44, 55]\n",
      "11\n",
      "22\n",
      "33\n",
      "44\n",
      "55\n",
      "[(1, 2), (1, 3), (2, 1), (2, 3), (3, 1), (3, 2)]\n",
      "[(1, 2), (1, 3), (2, 3)]\n"
     ]
    }
   ],
   "source": [
    "# example programs\n",
    "\n",
    "l = [1,2,3,4,5]\n",
    "i = iter(l)\n",
    "for j in i:\n",
    "    print(j)\n",
    "    \n",
    "import itertools\n",
    "\n",
    "l1 = [10,20,30,40]\n",
    "l2 = [50,60,70,80]\n",
    "l3 = [90,100,110,120]\n",
    "\n",
    "k = itertools.chain(l1,l2,l3)\n",
    "for j in k:\n",
    "    print(j)\n",
    "\n",
    "l = [11,22,33,44,55]\n",
    "count = 3\n",
    "for j in itertools.cycle(l):\n",
    "    if(count < 15):\n",
    "        print(j)\n",
    "    else:\n",
    "        break\n",
    "    count += 1\n",
    "    \n",
    "l = [11,22,33,44,55]\n",
    "count = 3\n",
    "for j in itertools.repeat(l):\n",
    "    if(count < 10):\n",
    "        print(j)\n",
    "    else:\n",
    "        break\n",
    "    count += 1\n",
    "\n",
    "    \n",
    "for i in itertools.islice(l, 0, 5): # end is not included as usual and index out of bounds doesn't matter cause it just doesn't mind exceeding indexes\n",
    "    print(i)\n",
    "    \n",
    "l = [1,2,3]\n",
    "print(list(itertools.permutations(l,2)))\n",
    "print(list(itertools.combinations(l,2)))"
   ]
  }
 ],
 "metadata": {
  "kernelspec": {
   "display_name": "Python 3",
   "language": "python",
   "name": "python3"
  },
  "language_info": {
   "codemirror_mode": {
    "name": "ipython",
    "version": 3
   },
   "file_extension": ".py",
   "mimetype": "text/x-python",
   "name": "python",
   "nbconvert_exporter": "python",
   "pygments_lexer": "ipython3",
   "version": "3.7.4"
  }
 },
 "nbformat": 4,
 "nbformat_minor": 2
}
