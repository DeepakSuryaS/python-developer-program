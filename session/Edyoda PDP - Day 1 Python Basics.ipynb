{
 "cells": [
  {
   "cell_type": "code",
   "execution_count": 1,
   "metadata": {},
   "outputs": [
    {
     "name": "stdout",
     "output_type": "stream",
     "text": [
      "Hi\n"
     ]
    }
   ],
   "source": [
    "print('Hi')"
   ]
  },
  {
   "cell_type": "markdown",
   "metadata": {},
   "source": [
    "To execute:\n",
    "          CTRL + Return\n",
    "          b => add new cell below\n",
    "          a => add new cell above"
   ]
  },
  {
   "cell_type": "markdown",
   "metadata": {},
   "source": [
    "Python has already saved numbers from 0 to 256 in memory. So, when you use any of those, it will reuse it. So, no matter how many variables refer to the same value, their id (memory location) will be the same. But for values higher than 256, the memory location for each variable will be different even if they hold the same value. "
   ]
  },
  {
   "cell_type": "markdown",
   "metadata": {},
   "source": [
    "Datatypes:\n",
    "str    -> immutable, iterable\n",
    "int    -> immutable, not iterable\n",
    "float  -> immutable, not iterable\n",
    "bool   -> immutable, not iterable\n",
    "tuple  -> immutable, iterable\n",
    "list   -> mutable  , iterable\n",
    "set    -> mutable  , iterable\n",
    "dict   -> mutable  , iterable\n",
    "None\n",
    "\n",
    "bytes\n",
    "bytearray\n",
    "complex\n",
    "frozenset\n",
    "\n",
    "You cannot change the values of the datatypes that are immutable at the same memory location. i.e., if you change the value of an immutable datatype, the value will be updated but in a new memory location.\n",
    "\n",
    "Mutable datatypes have methods to add, update and delete, while immutables won't have anything like that."
   ]
  },
  {
   "cell_type": "markdown",
   "metadata": {},
   "source": [
    "Variable names cannot contain any special character other than underscore. Variable names are case sensitive.\n",
    "In Python, snake_case (underscore casing) is prefered."
   ]
  },
  {
   "cell_type": "markdown",
   "metadata": {},
   "source": [
    "Operators:\n",
    "Arithmetic   -> +, -, *, /, //, **\n",
    "Comparison   -> ==, !=, <, >, <=, >=\n",
    "Logical      -> and, or, not\n",
    "Bitwise      -> &, |, <<, >>\n",
    "Membership   -> in, not in\n",
    "Identity     -> is, not is\n",
    "Assignment   -> =, +=, -=, /=, *="
   ]
  },
  {
   "cell_type": "code",
   "execution_count": 2,
   "metadata": {},
   "outputs": [
    {
     "name": "stdout",
     "output_type": "stream",
     "text": [
      "False\n"
     ]
    }
   ],
   "source": [
    "l = [10,20,30,40,50]\n",
    "print(500 in l)"
   ]
  },
  {
   "cell_type": "code",
   "execution_count": 3,
   "metadata": {},
   "outputs": [
    {
     "ename": "TypeError",
     "evalue": "argument of type 'int' is not iterable",
     "output_type": "error",
     "traceback": [
      "\u001b[0;31m---------------------------------------------------------------------------\u001b[0m",
      "\u001b[0;31mTypeError\u001b[0m                                 Traceback (most recent call last)",
      "\u001b[0;32m<ipython-input-3-3c88053b5764>\u001b[0m in \u001b[0;36m<module>\u001b[0;34m\u001b[0m\n\u001b[0;32m----> 1\u001b[0;31m \u001b[0mprint\u001b[0m\u001b[0;34m(\u001b[0m\u001b[0;36m5\u001b[0m \u001b[0;32min\u001b[0m \u001b[0;36m500\u001b[0m\u001b[0;34m)\u001b[0m\u001b[0;34m\u001b[0m\u001b[0;34m\u001b[0m\u001b[0m\n\u001b[0m",
      "\u001b[0;31mTypeError\u001b[0m: argument of type 'int' is not iterable"
     ]
    }
   ],
   "source": [
    "print(5 in 500)"
   ]
  },
  {
   "cell_type": "markdown",
   "metadata": {},
   "source": [
    "The above error is because the membership operators can work only with iterable datatypes."
   ]
  },
  {
   "cell_type": "code",
   "execution_count": 4,
   "metadata": {},
   "outputs": [
    {
     "name": "stdout",
     "output_type": "stream",
     "text": [
      "True\n"
     ]
    }
   ],
   "source": [
    "print('5' in '500')"
   ]
  },
  {
   "cell_type": "code",
   "execution_count": 5,
   "metadata": {},
   "outputs": [
    {
     "name": "stdout",
     "output_type": "stream",
     "text": [
      "False\n"
     ]
    }
   ],
   "source": [
    "d= {1:'Python', 2:'Java', 3: 'C'}\n",
    "print('C' in d)"
   ]
  },
  {
   "cell_type": "markdown",
   "metadata": {},
   "source": [
    "'==' will check the similarity in the values while 'is' will check if the values are in the same memory location."
   ]
  },
  {
   "cell_type": "code",
   "execution_count": 13,
   "metadata": {},
   "outputs": [
    {
     "name": "stdout",
     "output_type": "stream",
     "text": [
      "False\n",
      " Above is false because lists are mutable and their values will be saved in different memory locations.\n",
      " This is to prevent people from accidentally editing multiple lists together.\n",
      "True\n",
      "Similarly,\n",
      "140082644468080 140082644468880\n",
      "False\n"
     ]
    }
   ],
   "source": [
    "l1 = [10,20,30]\n",
    "l2 = [10,20,30]\n",
    "print(l1 is l2)\n",
    "print(''' Above is false because lists are mutable and their values will be saved in different memory locations.\n",
    " This is to prevent people from accidentally editing multiple lists together.''')\n",
    "print(l1 == l2)\n",
    "print('Similarly,')\n",
    "a = 1000\n",
    "b = 1000\n",
    "print(id(a), id(b))\n",
    "print(a is b)"
   ]
  },
  {
   "cell_type": "code",
   "execution_count": 16,
   "metadata": {},
   "outputs": [
    {
     "name": "stdout",
     "output_type": "stream",
     "text": [
      "Python!\n",
      "'cause you know, anything that is non-zero is True.\n"
     ]
    }
   ],
   "source": [
    "if \"python\":\n",
    "    print('Python!')\n",
    "    print(\"'cause you know, anything that is non-zero is True.\")\n",
    "else:\n",
    "    print('Chimmichanga!')"
   ]
  },
  {
   "cell_type": "markdown",
   "metadata": {},
   "source": [
    "All non-zero values are True.\n",
    "All zero values are False -> 0, None, \"\", [], {}, set(), ()"
   ]
  },
  {
   "cell_type": "code",
   "execution_count": 17,
   "metadata": {},
   "outputs": [
    {
     "ename": "IndexError",
     "evalue": "list index out of range",
     "output_type": "error",
     "traceback": [
      "\u001b[0;31m---------------------------------------------------------------------------\u001b[0m",
      "\u001b[0;31mIndexError\u001b[0m                                Traceback (most recent call last)",
      "\u001b[0;32m<ipython-input-17-e13ccc3f4c25>\u001b[0m in \u001b[0;36m<module>\u001b[0;34m\u001b[0m\n\u001b[1;32m      1\u001b[0m \u001b[0ml\u001b[0m \u001b[0;34m=\u001b[0m \u001b[0;34m[\u001b[0m\u001b[0;34m]\u001b[0m\u001b[0;34m\u001b[0m\u001b[0;34m\u001b[0m\u001b[0m\n\u001b[0;32m----> 2\u001b[0;31m \u001b[0mprint\u001b[0m\u001b[0;34m(\u001b[0m\u001b[0ml\u001b[0m\u001b[0;34m[\u001b[0m\u001b[0;36m0\u001b[0m\u001b[0;34m]\u001b[0m\u001b[0;34m)\u001b[0m\u001b[0;34m\u001b[0m\u001b[0;34m\u001b[0m\u001b[0m\n\u001b[0m",
      "\u001b[0;31mIndexError\u001b[0m: list index out of range"
     ]
    }
   ],
   "source": [
    "l = []\n",
    "print(l[0])"
   ]
  },
  {
   "cell_type": "markdown",
   "metadata": {},
   "source": [
    "Leap year check.\n",
    "Conditions:\n",
    "1. Divisible by 4\n",
    "2. Not divisible by 100"
   ]
  },
  {
   "cell_type": "code",
   "execution_count": 18,
   "metadata": {},
   "outputs": [
    {
     "name": "stdout",
     "output_type": "stream",
     "text": [
      "Hurray, leap year!\n"
     ]
    }
   ],
   "source": [
    "year = 1996\n",
    "if year % 4 == 0 and year % 100 != 0:\n",
    "    print('Hurray, leap year!')\n",
    "else:\n",
    "    print('Oops, not a leap year.')"
   ]
  },
  {
   "cell_type": "code",
   "execution_count": 23,
   "metadata": {},
   "outputs": [
    {
     "name": "stdout",
     "output_type": "stream",
     "text": [
      "Enter any number:10\n",
      " 10 is not a Perfect Number\n"
     ]
    }
   ],
   "source": [
    "# Python Program to find Perfect Number using For loop\n",
    "\n",
    "a = int(input('Enter any number:'))\n",
    "b = 0\n",
    "for i in range(1, a//2 + 1): # // is for optimization purpose. Because, if one half is okay, the other half is okay too.\n",
    "    if(a % i == 0):\n",
    "        b = b + i\n",
    "if (b == a):\n",
    "    print(\" %d is a Perfect Number\" %a)\n",
    "else:\n",
    "    print(\" %d is not a Perfect Number\" %a)"
   ]
  },
  {
   "cell_type": "code",
   "execution_count": null,
   "metadata": {},
   "outputs": [],
   "source": [
    "for x in {10, 20, 30, 40}:\n",
    "    print(x)\n",
    "print('Dictionaries don\\'t care about order.')"
   ]
  },
  {
   "cell_type": "code",
   "execution_count": 30,
   "metadata": {},
   "outputs": [
    {
     "name": "stdout",
     "output_type": "stream",
     "text": [
      "10\n",
      "20\n",
      "Hakuna Matata!\n"
     ]
    }
   ],
   "source": [
    "l = [10,20,30]\n",
    "for v in l:\n",
    "    print(v)\n",
    "    if v == 20:\n",
    "        break\n",
    "else: # this else is associated with the for loop, so break will get out of the for and else all together.\n",
    "    print('This will execute only if the above loop is fully completed (iterated) without breaking!')\n",
    "print('Hakuna Matata!')"
   ]
  },
  {
   "cell_type": "code",
   "execution_count": 34,
   "metadata": {},
   "outputs": [
    {
     "name": "stdout",
     "output_type": "stream",
     "text": [
      "PythonJava\n",
      "a - b, a * b and a/b are not supported.\n"
     ]
    }
   ],
   "source": [
    "a = 'Python'\n",
    "b = 'Java'\n",
    "print(a + b) # this is calling the __add__\n",
    "print('a - b, a * b and a/b are not supported.')"
   ]
  },
  {
   "cell_type": "code",
   "execution_count": 37,
   "metadata": {},
   "outputs": [
    {
     "name": "stdout",
     "output_type": "stream",
     "text": [
      "\n"
     ]
    }
   ],
   "source": [
    "s = \"python is a language\"\n",
    "# s[start:stop:stride]\n",
    "print(s[0:8:-1]) # empty answer"
   ]
  },
  {
   "cell_type": "markdown",
   "metadata": {},
   "source": [
    "During slicing, check stride:\n",
    "   stride +ve -> start to end should be left to right\n",
    "   stride -ve -> start to end should be right to left"
   ]
  },
  {
   "cell_type": "code",
   "execution_count": 44,
   "metadata": {},
   "outputs": [
    {
     "name": "stdout",
     "output_type": "stream",
     "text": [
      "Consonent count: 9\n",
      "Vowel count: 3\n"
     ]
    }
   ],
   "source": [
    "s = 'python sample string'\n",
    "count_vowel = 0\n",
    "count_conso = 0\n",
    "for c in s[7:]:\n",
    "    if c in 'aeiouAEIOU':\n",
    "        count_vowel += 1\n",
    "    elif c.isspace():\n",
    "        continue\n",
    "    else:\n",
    "        count_conso += 1\n",
    "else:\n",
    "    print('Consonent count:', count_conso)\n",
    "    print('Vowel count:', count_vowel)"
   ]
  },
  {
   "cell_type": "code",
   "execution_count": 52,
   "metadata": {},
   "outputs": [
    {
     "name": "stdout",
     "output_type": "stream",
     "text": [
      "['c', 'java', 'python']\n"
     ]
    }
   ],
   "source": [
    "l1 = 'python,java,c'\n",
    "l2 = l1.split(',')\n",
    "l2.reverse()\n",
    "print(l2)"
   ]
  },
  {
   "cell_type": "code",
   "execution_count": 53,
   "metadata": {},
   "outputs": [
    {
     "name": "stdout",
     "output_type": "stream",
     "text": [
      "opt\n"
     ]
    }
   ],
   "source": [
    "s = 'Hello everyone welcome to python'\n",
    "print(s[-8:-2:2])"
   ]
  },
  {
   "cell_type": "code",
   "execution_count": 65,
   "metadata": {},
   "outputs": [
    {
     "name": "stdout",
     "output_type": "stream",
     "text": [
      "['list', 'one', 'here']\n",
      "['list', 'two', 'h', 'e', 'r', 'e']\n"
     ]
    }
   ],
   "source": [
    "l = ['list', 'one']\n",
    "l2 = ['list', 'two']\n",
    "l.append('here')\n",
    "l2.extend('here')\n",
    "print(l) # append will add as it is\n",
    "print(l2) # extend will iterate over it"
   ]
  },
  {
   "cell_type": "code",
   "execution_count": 59,
   "metadata": {},
   "outputs": [
    {
     "name": "stdout",
     "output_type": "stream",
     "text": [
      "[1, 2, 3, 4, 5, 6, 7, 8, 9]\n"
     ]
    }
   ],
   "source": [
    "l = [[1,2,3],[4,5,6],[7,8,9]]\n",
    "flat_list = []\n",
    "flat_list2 = []\n",
    "for i in l:\n",
    "    for j in i:\n",
    "        flat_list.append(j)\n",
    "        \n",
    "print(flat_list)"
   ]
  },
  {
   "cell_type": "markdown",
   "metadata": {},
   "source": [
    "pop takes an index as the parameter, while remove takes it as an object itself. (delete based on index, delete based on value respectively)"
   ]
  },
  {
   "cell_type": "code",
   "execution_count": 64,
   "metadata": {},
   "outputs": [
    {
     "name": "stdout",
     "output_type": "stream",
     "text": [
      "2000\n",
      "[]\n"
     ]
    }
   ],
   "source": [
    "l = [10,20,30,40,50,[100,200,300,400,[1000,2000,3000]]]\n",
    "print(l[-1][-1][1])\n",
    "print(l[-1][-1][3:-1:-1]) # stride rule broken"
   ]
  },
  {
   "cell_type": "code",
   "execution_count": 67,
   "metadata": {},
   "outputs": [
    {
     "name": "stdout",
     "output_type": "stream",
     "text": [
      "True\n",
      "False\n"
     ]
    }
   ],
   "source": [
    "l1 = [10,20,30]\n",
    "l2 = l1\n",
    "l3 = l1.copy # or l2.copy\n",
    "print(l1 is l2)\n",
    "print(l3 is l1)"
   ]
  },
  {
   "cell_type": "markdown",
   "metadata": {},
   "source": [
    "If you're gonna assign only one value for a tuple, give a ',' after the element even if it's followed by none."
   ]
  },
  {
   "cell_type": "code",
   "execution_count": 87,
   "metadata": {},
   "outputs": [
    {
     "name": "stdout",
     "output_type": "stream",
     "text": [
      "None\n",
      "None boom@boom.com {'name': 'Surya', 'email': 'boom@boom.com', 'age': None}\n",
      "Surya\n",
      "('age', None)\n"
     ]
    }
   ],
   "source": [
    "d = {'name':'Surya', 'email':'boom@boom.com'}\n",
    "x = d.setdefault('email', 'boom1@boom1.com') # you cannot update value using setdefault; not even with None\n",
    "y = d.setdefault('age')\n",
    "\n",
    "# print(d['age']) # if value doesn't exist, it'll give an error\n",
    "print(d.get('age')) # returns None if it doesn't exist\n",
    "print(y,x,d)\n",
    "\n",
    "r = d.pop('name')\n",
    "print(r)\n",
    "\n",
    "r = d.popitem()\n",
    "print(r)"
   ]
  },
  {
   "cell_type": "code",
   "execution_count": 84,
   "metadata": {},
   "outputs": [
    {
     "name": "stdout",
     "output_type": "stream",
     "text": [
      "{'a': 97, 'b': 98, 'c': 99, 'd': 100, 'e': 101, 'f': 102, 'g': 103, 'h': 104, 'i': 105, 'j': 106, 'k': 107, 'l': 108, 'm': 109, 'n': 110, 'o': 111, 'p': 112, 'q': 113, 'r': 114, 's': 115, 't': 116, 'u': 117, 'v': 118, 'w': 119, 'x': 120, 'y': 121, 'z': 122}\n"
     ]
    }
   ],
   "source": [
    "d = {}\n",
    "for i in range(97, 123):\n",
    "    d[chr(i)] = i # or d.setdefault(chr(i), i)\n",
    "print(d)"
   ]
  },
  {
   "cell_type": "markdown",
   "metadata": {},
   "source": [
    "list opertions:\n",
    "add:\n",
    "  append -> one value\n",
    "  insert\n",
    "  extend -> iterates\n",
    "update:\n",
    "\n",
    "delete:\n",
    "  clear\n",
    "  remove -> based on value\n",
    "  pop -> removes last item\n",
    "  \n",
    "  \n",
    "dict:\n",
    "  d['key'] = value\n",
    "  d.setdefault(key, value)\n",
    "  \n",
    "  update:\n",
    "  d['key'] = value\n",
    "  \n",
    "  delete:\n",
    "    del\n",
    "    clear\n",
    "    pop -> pops specified key, returns the key\n",
    "    popitem -> pops last item, returns key, value"
   ]
  },
  {
   "cell_type": "markdown",
   "metadata": {},
   "source": [
    "set:\n",
    "union\n",
    "intersection\n",
    "difference - elements which are present in the set 1 but not in set 2\n",
    "symmetric_difference -> opposite of intersection"
   ]
  },
  {
   "cell_type": "code",
   "execution_count": null,
   "metadata": {},
   "outputs": [],
   "source": []
  },
  {
   "cell_type": "code",
   "execution_count": 89,
   "metadata": {},
   "outputs": [
    {
     "name": "stdout",
     "output_type": "stream",
     "text": [
      "Please enter a number: 50\n",
      "25\n",
      "9\n",
      "4\n",
      "2\n",
      "1\n"
     ]
    }
   ],
   "source": [
    "# collatz conjecture\n",
    "\n",
    "n = int(input('Please enter a number: '))\n",
    "\n",
    "while n > 1:\n",
    "    if(n % 2 == 0):\n",
    "        n = n // 2\n",
    "        print(n)\n",
    "    else:\n",
    "        n = (n // 3) + 1\n",
    "        print(n)\n"
   ]
  },
  {
   "cell_type": "code",
   "execution_count": 103,
   "metadata": {},
   "outputs": [
    {
     "name": "stdout",
     "output_type": "stream",
     "text": [
      "Enter a number: 4\n",
      "Enter the message that you want to encrypt:WELCOME\n",
      "65\n",
      "BIPGSQI\n"
     ]
    }
   ],
   "source": [
    "# caesar's cipher\n",
    "\n",
    "n = int(input('Enter a number: '))\n",
    "s = input('Enter the message that you want to encrypt:')\n",
    "cipher = ''\n",
    "\n",
    "for c in s:\n",
    "    a = ord(c) + n\n",
    "    if(a > 122) or (a > 90 and a < 97):\n",
    "        a = a - 25\n",
    "    cipher = cipher + chr(a)\n",
    "\n",
    "print(cipher)"
   ]
  },
  {
   "cell_type": "code",
   "execution_count": 110,
   "metadata": {},
   "outputs": [
    {
     "name": "stdout",
     "output_type": "stream",
     "text": [
      "[(2, 5), (5, 2), (3, 4), (4, 3)]\n"
     ]
    }
   ],
   "source": [
    "# find sum pairs in list\n",
    "\n",
    "l = [5,2,3,4,1]\n",
    "l.sort()\n",
    "n = 7\n",
    "l2 = []\n",
    "\n",
    "for i in range(0, len(l)):\n",
    "    for j in range(i+1, len(l)):\n",
    "        if(l[i] + l[j] == n):\n",
    "            l2.append((l[i],l[j]))\n",
    "            l2.append((l[j],l[i]))\n",
    "print(l2)"
   ]
  },
  {
   "cell_type": "code",
   "execution_count": 145,
   "metadata": {},
   "outputs": [
    {
     "name": "stdout",
     "output_type": "stream",
     "text": [
      "{(1, 10): 0, (11, 20): 1, (21, 30): 0, (31, 40): 1, (41, 50): 0, (51, 60): 2, (61, 70): 1, (71, 80): 4, (81, 90): 2, (91, 100): 2}\n"
     ]
    }
   ],
   "source": [
    "# test scores\n",
    "\n",
    "score_board = {\n",
    "                (1,10): 0, (11,20): 0, \n",
    "                (21,30): 0, (31,40): 0, \n",
    "                (41,50): 0, (51,60): 0, \n",
    "                (61,70): 0, (71,80): 0, \n",
    "                (81,90): 0, (91,100): 0\n",
    "              }\n",
    "\n",
    "scores = [12, 90, 100, 52, 56, 76, 92, 83, 39, 77, 73, 70, 80]\n",
    "s_9 = s_8 = s_7 = s_6 = s_5 = s_4 = s_3 = s_2 = s_1 = s_0 = 0\n",
    "\n",
    "for i in scores:\n",
    "    if(i <= 100 and i >= 91):\n",
    "        s_9 += 1\n",
    "    elif(i <= 90 and i >= 81):\n",
    "        s_8 += 1\n",
    "    elif(i <= 80 and i >= 71):\n",
    "        s_7 += 1\n",
    "    elif(i <= 70 and i >=61):\n",
    "        s_6 += 1\n",
    "    elif(i <= 60 and i >= 51):\n",
    "        s_5 += 1\n",
    "    elif(i <= 50 and i >= 41):\n",
    "        s_4 += 1\n",
    "    elif(i <= 40 and i >= 31):\n",
    "        s_3 += 1\n",
    "    elif(i <= 30 and i >= 21):\n",
    "        s_2 += 1\n",
    "    elif(i <= 20 and i >= 11):\n",
    "        s_1 += 1\n",
    "    elif(i <= 10 and i >= 1):\n",
    "        s_0 += 1\n",
    "        \n",
    "score_board[(1,10)]   = s_0\n",
    "score_board[(11,20)]  = s_1\n",
    "score_board[(21,30)]  = s_2\n",
    "score_board[(31,40)]  = s_3\n",
    "score_board[(41,50)]  = s_4\n",
    "score_board[(51,60)]  = s_5\n",
    "score_board[(61,70)]  = s_6\n",
    "score_board[(71,80)]  = s_7\n",
    "score_board[(81,90)]  = s_8\n",
    "score_board[(91,100)] = s_9\n",
    "\n",
    "# {(1,10): 0, (11,20): 1, (21,30): 0, (31,40): 1, (41,50): 0, (51,60): 2, (61,70): 0, (71,80): 4, (81,90): 2, (91,100): 3}\n",
    "print(score_board)"
   ]
  },
  {
   "cell_type": "code",
   "execution_count": 167,
   "metadata": {},
   "outputs": [
    {
     "name": "stdout",
     "output_type": "stream",
     "text": [
      "Bombay->Delhi->Goa->Chennai->Banglore\n"
     ]
    }
   ],
   "source": [
    "# tour sequence\n",
    "\n",
    "trips = {\"Chennai\":\"Banglore\",\"Bombay\":\"Delhi\",\"Goa\":\"Chennai\",\"Delhi\":\"Goa\"}\n",
    "departure_set = set(trips.keys())\n",
    "origin = []\n",
    "n = len(trips) + 1\n",
    "\n",
    "for i in departure_set:\n",
    "    if i not in trips.values():\n",
    "        origin.append(i) and origin.append(trips[i])\n",
    "        break\n",
    "\n",
    "while(n > 0):\n",
    "    origin.append(trips[origin[-1]])\n",
    "    if(len(origin) == len(trips)+1):\n",
    "        break\n",
    "    n -= 1\n",
    "        \n",
    "\n",
    "trip = ('->').join(origin)\n",
    "print(trip)"
   ]
  },
  {
   "cell_type": "code",
   "execution_count": 133,
   "metadata": {},
   "outputs": [
    {
     "name": "stdout",
     "output_type": "stream",
     "text": [
      "Anagram\n"
     ]
    }
   ],
   "source": [
    "# anagram\n",
    "\n",
    "s1 = 'army'\n",
    "s2 = 'mary'\n",
    "count = 0\n",
    "for i in s1:\n",
    "    if(i in s2):\n",
    "        count += 1\n",
    "        if(count == len(s1)):\n",
    "            print('Anagram')\n",
    "            break"
   ]
  }
 ],
 "metadata": {
  "kernelspec": {
   "display_name": "Python 3",
   "language": "python",
   "name": "python3"
  },
  "language_info": {
   "codemirror_mode": {
    "name": "ipython",
    "version": 3
   },
   "file_extension": ".py",
   "mimetype": "text/x-python",
   "name": "python",
   "nbconvert_exporter": "python",
   "pygments_lexer": "ipython3",
   "version": "3.7.4"
  }
 },
 "nbformat": 4,
 "nbformat_minor": 2
}
