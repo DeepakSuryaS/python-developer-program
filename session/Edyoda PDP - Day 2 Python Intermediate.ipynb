{
 "cells": [
  {
   "cell_type": "markdown",
   "metadata": {},
   "source": [
    "## Some builtin math functions"
   ]
  },
  {
   "cell_type": "code",
   "execution_count": 6,
   "metadata": {},
   "outputs": [
    {
     "name": "stdout",
     "output_type": "stream",
     "text": [
      "600\n",
      "300\n",
      "100\n",
      "26\n",
      "25.55\n"
     ]
    }
   ],
   "source": [
    "# sum function\n",
    "l = [100,200,300]\n",
    "print(sum(l))  # sum function takes arguments and returns the sum of all the elements that are inside it\n",
    "\n",
    "print(max(l)) # returns max of the elements. It can take any number of elements.\n",
    "print(min(l))\n",
    "\n",
    "a = 25.54699\n",
    "print(round(a)) # rounds a number to the nearest value\n",
    "print(round(a, 2)) # optional second parameter to specify the number of decimal points to round it to"
   ]
  },
  {
   "cell_type": "markdown",
   "metadata": {},
   "source": [
    "## Math module"
   ]
  },
  {
   "cell_type": "code",
   "execution_count": 38,
   "metadata": {},
   "outputs": [
    {
     "name": "stdout",
     "output_type": "stream",
     "text": [
      "list: [0.1, 0.1, 0.1, 0.1, 0.1, 0.1, 0.1, 0.1, 0.1, 0.1]\n",
      "By sum function: 0.9999999999999999\n",
      "By math module: 1.0\n",
      "Lower bound: 15 , Upper bound: 16\n",
      "Square root: 3.0\n",
      "Factorial: 120\n",
      "Modf: (0.5555999999999983, 45.0)\n",
      "0.5555999999999983 , 45.0\n",
      "Exponentiation: 100.0\n",
      "Log: 3.3219280948873626\n",
      "Default base is e: 2.302585092994046\n",
      "0.3010299956639812\n",
      "3.321928094887362\n",
      "Sin in degress: -0.9880316240928618\n",
      "Sin in radians: 0.49999999999999994 which is 1/2.\n",
      "Cos: 0.8660254037844387\n",
      "Tan: 0.5773502691896257\n"
     ]
    }
   ],
   "source": [
    "import math\n",
    "\n",
    "l = [0.1] * 10\n",
    "print('list:',l)\n",
    "print('By sum function:',sum(l)) # this is the problem with sum. Instead of returning 1.0, it returns 0.9999999\n",
    "\n",
    "print('By math module:',math.fsum(l)) # math module fixes this error\n",
    "\n",
    "# lower bound and upper bound\n",
    "b = 15.5559\n",
    "print('Lower bound:',math.floor(b),', Upper bound:',math.ceil(b))\n",
    "\n",
    "b = 9\n",
    "print('Square root:',math.sqrt(c))\n",
    "print('Factorial:',math.factorial(5))\n",
    "\n",
    "b = 45.5556\n",
    "print('Modf:',math.modf(b)) # this will separate the integer part and decimal part\n",
    "decimal_part, integer_part = math.modf(b) # you can also assign the values to variables\n",
    "print(decimal_part, ',', integer_part)\n",
    "\n",
    "print('Exponentiation:',math.pow(10, 2)) # this can also be done with ** operator\n",
    "\n",
    "print('Log:', math.log(10,2)) # log(n, base)\n",
    "print('Default base is e:', math.log(10)) # also called natural log\n",
    "print(math.log10(2)) # 10 is the base\n",
    "print(math.log2(10)) # 2 is the base\n",
    "\n",
    "# trigonometry\n",
    "print('Sin in degress:', math.sin(30)) # here the 30 is in degrees. So, if you want the actual answer that sin would give, the argument should be in radians\n",
    "print('Sin in radians:', math.sin(math.radians(30)), 'which is 1/2.')\n",
    "print('Cos:', math.cos(math.radians(30)))\n",
    "print('Tan:', math.tan(math.radians(30)))"
   ]
  },
  {
   "cell_type": "markdown",
   "metadata": {},
   "source": [
    "## Random Module"
   ]
  },
  {
   "cell_type": "code",
   "execution_count": 83,
   "metadata": {},
   "outputs": [
    {
     "name": "stdout",
     "output_type": "stream",
     "text": [
      "Default random (0 to 1): 0.10535199584813026\n",
      "Custom range: 28\n",
      "Rand range: 97\n",
      "Random choice: 5\n",
      "Random float number: 19.27830982489821\n"
     ]
    }
   ],
   "source": [
    "import random\n",
    "\n",
    "print('Default random (0 to 1):', random.random()) # the random function from the random module will generate a random number between 0 and 1\n",
    "print('Custom range:', random.randint(1,100)) # random number between 1 and 100, 100 is included\n",
    "print('Rand range:', random.randrange(1,100)) # same as randint but here 100 is not included\n",
    "\n",
    "l = [1,2,3,4,5,6]\n",
    "print('Random choice:',random.choice(l)) # picks a random element from the list\n",
    "\n",
    "print('Random float number:', random.uniform(10,20)) # random float number"
   ]
  },
  {
   "cell_type": "markdown",
   "metadata": {},
   "source": [
    "## User Defined Functions\n",
    "->  code reuse\n",
    "->  modularity"
   ]
  },
  {
   "cell_type": "code",
   "execution_count": 3,
   "metadata": {},
   "outputs": [
    {
     "name": "stdout",
     "output_type": "stream",
     "text": [
      "nohtyp\n",
      "[5, 4, 4, 3, 2, 1]\n",
      "401\n"
     ]
    }
   ],
   "source": [
    "# valeu reverse\n",
    "def reverse_value(v):\n",
    "    if(type(v) == list or type(v) == str):\n",
    "        reverse = v[::-1]\n",
    "    else:\n",
    "        temp = str(v)\n",
    "        reverse = temp[::-1]   \n",
    "    return reverse  # if not returned, then the var rev will contain None. You can write functions that don't return anything.\n",
    "    \n",
    "reversed = reverse_value('python')\n",
    "print(reversed)\n",
    "\n",
    "l = [1,2,3,4,4,5]\n",
    "rev = reverse_value(l)\n",
    "print(rev)\n",
    "\n",
    "n = 104\n",
    "rev = reverse_value(n) # slicing won't handle integers like this. So, our function won't work. We need to handle this.\n",
    "print(rev)"
   ]
  },
  {
   "cell_type": "markdown",
   "metadata": {},
   "source": [
    "### Different ways of passing parameters to a function\n",
    "\n",
    "-> positional (or required) arguments : Required arguments are the mandatory arguments of a function. These argument values must be passed in correct number and order during function call. Total number of arguments in the function call and definition are the same.\n",
    "\n",
    "-> Default argument : Default values indicate that the function argument will take that value if no argument value is passed during function call. The default value is assigned by using assignment (=) operator. Takes an argument otherwise has a default value.\n",
    "\n",
    "-> Keyword argument : The keywords are mentioned during the function call along with their corresponding values. These keywords are mapped with the function arguments so the function can easily identify the corresponding values even if the order is not maintained during the function call.\n",
    "\n",
    "-> Variable length arguments : This is very useful when we do not know the exact number of arguments that will be passed to a function. Or we can have a design where any number of arguments can be passed based on the requirement. Note: * -> will make the arguments a tuple ; ** -> will make the arguments a dictionary.\n",
    "\n",
    "\n",
    "In both * and **, the len of the iterable should be equal to the number of parameters."
   ]
  },
  {
   "cell_type": "code",
   "execution_count": 5,
   "metadata": {},
   "outputs": [
    {
     "name": "stdout",
     "output_type": "stream",
     "text": [
      "False\n"
     ]
    }
   ],
   "source": [
    "# positional argument example\n",
    "def linear_search(l, key):\n",
    "    for v in l:\n",
    "        if key == v:\n",
    "            return True\n",
    "    else:\n",
    "        return False\n",
    "    \n",
    "l = [1,2,3,4,5,6]\n",
    "print(linear_search(l, 7))"
   ]
  },
  {
   "cell_type": "code",
   "execution_count": 35,
   "metadata": {},
   "outputs": [
    {
     "name": "stdout",
     "output_type": "stream",
     "text": [
      "97 122\n",
      "65 90\n",
      "Random 8 character password: I1g530?3\n",
      "100;200300\n"
     ]
    }
   ],
   "source": [
    "# default argument example\n",
    "\n",
    "# password generator function\n",
    "\n",
    "# we will make use of ord and chr\n",
    "print(ord('a'), ord('z'))\n",
    "print(ord('A'), ord('Z'))\n",
    "\n",
    "import random\n",
    "\n",
    "def gen_password(length=8): # If argument is provided, it will generate a password of that length else 8 characters.\n",
    "    special_chars = ['!', '@', '#', '$', '%', '^', '&', '*', '(', ')', ';', '<', '>', '?', '.', ',']\n",
    "    upper = chr(random.randint(65,90))\n",
    "    lower = chr(random.randint(97,122))\n",
    "    special_char = random.choice(special_chars)\n",
    "    digit = random.randint(10000, 99999)\n",
    "    \n",
    "    s = {upper, lower, special_char, digit}\n",
    "    paswd = ('').join(str(i) for i in s)\n",
    "    passwd = random.sample(paswd, length) # for the length of the password\n",
    "    password = ('').join(passwd)\n",
    "    \n",
    "    return password\n",
    "\n",
    "print('Random 8 character password:', gen_password(8))\n",
    "\n",
    "# simply, the print function is also an example as it can parameters for separator and newline char.\n",
    "print(100,200, sep=';', end='') # instead of comma it uses semicolon as a separator; also the newline char is removed.\n",
    "print(300) # this is one the same line as the previous one because the previous one doesn't have a newline at the end.\n"
   ]
  },
  {
   "cell_type": "code",
   "execution_count": 38,
   "metadata": {},
   "outputs": [
    {
     "name": "stdout",
     "output_type": "stream",
     "text": [
      "Valid\n",
      "1;2.3\n"
     ]
    }
   ],
   "source": [
    "# keyword arguments example\n",
    "\n",
    "def validate(username, password):\n",
    "    if username == 'ABC' and password == 'abc@123':\n",
    "        return 'Valid'\n",
    "    else:\n",
    "        return 'Invalid'\n",
    "\n",
    "print(validate(password='abc@123', username='ABC'))\n",
    "\n",
    "# the print function is an example for this too, because the keywords sep and end can be used to specify separator and newline character in any order.\n",
    "print(1,2, end='.', sep=';') # here the newline character is replaced with a period.\n",
    "print(3)"
   ]
  },
  {
   "cell_type": "code",
   "execution_count": 54,
   "metadata": {},
   "outputs": [
    {
     "name": "stdout",
     "output_type": "stream",
     "text": [
      "[1, 2, 3, 4, 5, 6, 7, 9]\n",
      "(9, 8, 7, 7, 6)\n",
      "{'username': 'Surya', 'email': 'example@abc.com', 'contact': 9009281583, 'dob': '12-8-2200'}\n",
      "{'username': 'Surya', 'email': 'example@abc.com', 'contact': 9009281583}\n",
      "{'username': 'Surya', 'email': 'example@abc.com', 'dob': '12-8-2200'}\n",
      "(1, 2, 3) {'username': 'Surya', 'email': 'example@abc.com', 'dob': '12-8-2200'}\n",
      "1 2 (3,) {'username': 'Surya', 'email': 'example@abc.com', 'dob': '12-8-2200'}\n"
     ]
    },
    {
     "ename": "TypeError",
     "evalue": "get_details_combo_1() missing 2 required positional arguments: 'n1' and 'n2'",
     "output_type": "error",
     "traceback": [
      "\u001b[0;31m---------------------------------------------------------------------------\u001b[0m",
      "\u001b[0;31mTypeError\u001b[0m                                 Traceback (most recent call last)",
      "\u001b[0;32m<ipython-input-54-af8d763d8fda>\u001b[0m in \u001b[0;36m<module>\u001b[0;34m\u001b[0m\n\u001b[1;32m     33\u001b[0m \u001b[0mget_details_combo\u001b[0m\u001b[0;34m(\u001b[0m\u001b[0;36m1\u001b[0m\u001b[0;34m,\u001b[0m\u001b[0;36m2\u001b[0m\u001b[0;34m,\u001b[0m\u001b[0;36m3\u001b[0m\u001b[0;34m,\u001b[0m\u001b[0musername\u001b[0m\u001b[0;34m=\u001b[0m\u001b[0;34m'Surya'\u001b[0m\u001b[0;34m,\u001b[0m \u001b[0memail\u001b[0m\u001b[0;34m=\u001b[0m\u001b[0;34m'example@abc.com'\u001b[0m\u001b[0;34m,\u001b[0m \u001b[0mdob\u001b[0m\u001b[0;34m=\u001b[0m\u001b[0;34m'12-8-2200'\u001b[0m\u001b[0;34m)\u001b[0m \u001b[0;31m# combine positional and keyword\u001b[0m\u001b[0;34m\u001b[0m\u001b[0;34m\u001b[0m\u001b[0m\n\u001b[1;32m     34\u001b[0m \u001b[0mget_details_combo_1\u001b[0m\u001b[0;34m(\u001b[0m\u001b[0;36m1\u001b[0m\u001b[0;34m,\u001b[0m\u001b[0;36m2\u001b[0m\u001b[0;34m,\u001b[0m\u001b[0;36m3\u001b[0m\u001b[0;34m,\u001b[0m\u001b[0musername\u001b[0m\u001b[0;34m=\u001b[0m\u001b[0;34m'Surya'\u001b[0m\u001b[0;34m,\u001b[0m \u001b[0memail\u001b[0m\u001b[0;34m=\u001b[0m\u001b[0;34m'example@abc.com'\u001b[0m\u001b[0;34m,\u001b[0m \u001b[0mdob\u001b[0m\u001b[0;34m=\u001b[0m\u001b[0;34m'12-8-2200'\u001b[0m\u001b[0;34m)\u001b[0m \u001b[0;31m# 1 and 2 for n1 and n2; 3 for argss, rest for kwargs\u001b[0m\u001b[0;34m\u001b[0m\u001b[0;34m\u001b[0m\u001b[0m\n\u001b[0;32m---> 35\u001b[0;31m \u001b[0mget_details_combo_1\u001b[0m\u001b[0;34m(\u001b[0m\u001b[0musername\u001b[0m\u001b[0;34m=\u001b[0m\u001b[0;34m'Surya'\u001b[0m\u001b[0;34m,\u001b[0m \u001b[0memail\u001b[0m\u001b[0;34m=\u001b[0m\u001b[0;34m'example@abc.com'\u001b[0m\u001b[0;34m,\u001b[0m \u001b[0mdob\u001b[0m\u001b[0;34m=\u001b[0m\u001b[0;34m'12-8-2200'\u001b[0m\u001b[0;34m)\u001b[0m\u001b[0;34m\u001b[0m\u001b[0;34m\u001b[0m\u001b[0m\n\u001b[0m",
      "\u001b[0;31mTypeError\u001b[0m: get_details_combo_1() missing 2 required positional arguments: 'n1' and 'n2'"
     ]
    }
   ],
   "source": [
    "# variable number of arguments example\n",
    "\n",
    "# *  -> will make the arguments a tuple\n",
    "# ** -> will make the arguments a dictionary\n",
    "\n",
    "# variable number of positional arguments\n",
    "def append_multiple(*varargs):  # it doesn't really have to be named varargs\n",
    "    l = []\n",
    "    for i in varargs:\n",
    "        l.append(i)\n",
    "    \n",
    "    return l\n",
    "\n",
    "def add_more(*args):\n",
    "    print(args) # we didn't make it a list, so here it's a tuple\n",
    "\n",
    "print(append_multiple(1,2,3,4,5,6,7,9))\n",
    "add_more(9,8,7,7,6)\n",
    "\n",
    "# variable number of keyword arguments\n",
    "def get_details_kwargs(**kwargs): # kwargs is short for keyword arguments\n",
    "    print(kwargs)\n",
    "    \n",
    "def get_details_combo(*args, **kwargs): # combine positional and keyword\n",
    "    print(args, kwargs)\n",
    "    \n",
    "def get_details_combo_1(n1, n2, *args, **kwargs):\n",
    "    print(n1,n2,args, kwargs)\n",
    "    \n",
    "get_details_kwargs(username='Surya', email='example@abc.com', contact=9009281583, dob='12-8-2200')\n",
    "get_details_kwargs(username='Surya', email='example@abc.com', contact=9009281583)\n",
    "get_details_kwargs(username='Surya', email='example@abc.com', dob='12-8-2200')\n",
    "get_details_combo(1,2,3,username='Surya', email='example@abc.com', dob='12-8-2200') # combine positional and keyword\n",
    "get_details_combo_1(1,2,3,username='Surya', email='example@abc.com', dob='12-8-2200') # 1 and 2 for n1 and n2; 3 for argss, rest for kwargs\n",
    "get_details_combo_1(username='Surya', email='example@abc.com', dob='12-8-2200') # throws error because of missing n1 and n2"
   ]
  },
  {
   "cell_type": "code",
   "execution_count": 70,
   "metadata": {},
   "outputs": [
    {
     "name": "stdout",
     "output_type": "stream",
     "text": [
      "6\n",
      "6\n",
      "pqr\n",
      "6\n",
      "pythonjavaruby\n"
     ]
    }
   ],
   "source": [
    "def add(n1, n2, n3):\n",
    "    return n1 + n2 + n3\n",
    "\n",
    "l = [1, 2, 3] # to pass these three values as n1, n2, and n3... (a tuple can also be passed like this)\n",
    "print(add(l[0], l[1], l[2])) # we can either do this or...\n",
    "print(add(*l)) # this! This will convert the list into positional arguments.\n",
    "\n",
    "s = 'pqr'\n",
    "print(add(*s))\n",
    "\n",
    "#s = \"pqrs\" # here, there are four positional arguments but the func takes only three. So, we'll get an error.\n",
    "#print(add(*s))\n",
    "\n",
    "d = {1:'python', 2:'java', 3:'ruby'}\n",
    "print(add(*d)) # using positional arguments (*) in case of dictionaries will pass only the keys.\n",
    "#print(add(**d)) # double asterisks (**) will pass (unpack) the values as it is based on keyword arguments. But, we'll get an error.\n",
    "\n",
    "# that is because, when we pass dictionaries as keyword arguments, the keys should be same as the function parameters. In this case they should be n1, n2, n3.\n",
    "d = {'n1':'python', 'n2':'java', 'n3':'ruby'}\n",
    "print(add(**d))"
   ]
  },
  {
   "cell_type": "markdown",
   "metadata": {},
   "source": [
    "## Recursive functions"
   ]
  },
  {
   "cell_type": "code",
   "execution_count": 58,
   "metadata": {},
   "outputs": [
    {
     "name": "stdout",
     "output_type": "stream",
     "text": [
      "120\n",
      "False\n"
     ]
    }
   ],
   "source": [
    "# recursive function example\n",
    "\n",
    "def factorial(n):\n",
    "    if n == 1 or n == 0:\n",
    "        return 1\n",
    "    else:\n",
    "        return n * factorial(n - 1)\n",
    "    \n",
    "print(factorial(5))\n",
    "\n",
    "# binary search\n",
    "def binary_search(l, key):\n",
    "    if(len(l) == 0):\n",
    "        return False\n",
    "    else:\n",
    "        mid = len(l) // 2\n",
    "        if(key == l[mid]):\n",
    "            return True\n",
    "        elif(key < l[mid]):\n",
    "            return binary_search(l[:mid], key)\n",
    "        else:\n",
    "            return binary_search(l[mid+1:], key)\n",
    "\n",
    "print(binary_search([1,2,3,4,5,6,7,8,9], 10))"
   ]
  },
  {
   "cell_type": "markdown",
   "metadata": {},
   "source": [
    "# Creating packages and modules\n",
    "\n",
    "As soon as we import a module, python will execute the entire module, optimize it and store it in a folder called pycache in the same folder.\n",
    "To every module, it itself is the main module. So that, name of that module will be main. This enables us to execute certain functions only when the module is the main module.\n",
    "While creating a module, anything written within triple quotes acts as description of the module (if written at the very top of the file) or of the respective functions (if written within function definition block).\n",
    "\n",
    "__init__.py -> this file will make the directory a python package. (need not contain any code)\n",
    "\n",
    "import package_name or module_name (function names and class names cannot be imported like this)\n",
    "\n",
    "from package_name/module_name import function_name/module_name/class_name (this is how we can do it)\n",
    "\n",
    "import folder1.file1 -> this can be done, if the folder containing file1 is a package. But still, you have to use folder1.file1.add() to call the function. To avoid this you can use, 'from ... import ...', then you can call the function directly using the name of the function.\n",
    "\n",
    "import folder1.file1 as f1 -> f1 is an alias for folder1.file1. Now, you can use f1.add().\n",
    "\n",
    "To import a module  directly (like importing built-in modules) add it to the sys.path of python.\n",
    "sys.path is just a list, so you can run -> sys.path.append(path_to_module) from a python shell or any python file.\n",
    "\n"
   ]
  },
  {
   "cell_type": "code",
   "execution_count": null,
   "metadata": {},
   "outputs": [],
   "source": [
    "# file1.py\n",
    "\n",
    "def add(n1, n2):\n",
    "    return n1 + n2\n",
    "\n",
    "if __name__ == \"__main__\":\n",
    "    print('Hello Friend!')\n",
    "    print('Inside file1, because now file1 is the main file.')\n",
    "    add(1,2)\n",
    "    \n",
    "# file2.py\n",
    "import file1\n",
    "\n",
    "print(file1.add(4,5))\n",
    "\n",
    "# from file1 import add\n",
    "# print(add(4,5))\n",
    "\n",
    "if __name__ == '__main__':\n",
    "    print('Hello Friend!')\n",
    "    print('Inside file2, because now file2 is the main file.')"
   ]
  },
  {
   "cell_type": "code",
   "execution_count": 8,
   "metadata": {},
   "outputs": [
    {
     "name": "stdout",
     "output_type": "stream",
     "text": [
      "inside func: 100\n",
      "inside func v2: 200\n",
      "outside func: 200\n"
     ]
    }
   ],
   "source": [
    "# scope of variables\n",
    "\n",
    "def printVal():\n",
    "    global n1 # before reassigning a global variable, it should be included in the function\n",
    "    print('inside func:', n1)\n",
    "    n1 = 200 # now you can reassign it\n",
    "    print('inside func v2:', n1)\n",
    "    \n",
    "n1 = 100\n",
    "printVal()\n",
    "print('outside func:', n1)"
   ]
  },
  {
   "cell_type": "markdown",
   "metadata": {},
   "source": [
    "# File operations\n",
    "\n",
    "r  -> read.             - Doesn't delete original contents while opening the file. Pointer at start.\n",
    "r+ -> read and write.   - Doesn't delete original contents while opening the file. Pointer at start.\n",
    "w  -> write.            - Deletes original contents while opening the file. Cannot read contents from a file                                 that's opened in write mode. For that we have w+. Pointer at start because it deletes old contents.\n",
    "w+ -> write and read.   - Deletes original contents while opening the file. Pointer at start because it deletes old contents.\n",
    "a  -> append.           - Doesn't delete original contents while opening the file. Pointer at end.\n",
    "a+ -> append and write. - Doesn't delete original contents while opening the file. Pointer at end.\n",
    "\n",
    "In read and write modes (r, r+, w, w+), the default position of the file pointer is at the beginning of the file (in case of w+ and r+, you gotta seek to the beginning of the file to read and to end of the file to write respectively.) but in append mode (a and a+), the file pointer is at the end of the file. In the a+ mode, the contents of the file can be read from the beginning while a write operation would append to the end. \n",
    "\n",
    "r requires file to exist already.\n",
    "w and a will create the file if it doesn't exist.\n",
    "\n",
    "Opening files in w or w+ will erase the contents of the file immediately. But, r and r+ won't do that.\n",
    "\n",
    "read()      - returns a string after reading the file\n",
    "readlines() - returns a list after reading the file and every line will be an individual element in the list on the basis of newline char.\n",
    "readline()  - reads the file one line at a time and returns a string.\n",
    "\n",
    "tell -> gives the position of the file pointer\n",
    "seek(offset, position) -> helps us change the position of the file pointer\n",
    "    offset -> number of characters you want to move the file pointer\n",
    "    position -> beginning(0) or end(2) or current position(1).\n",
    " \n",
    " example: seek(15, 0) -> move the pointer 15 characters from the start of the file.\n",
    "          seek(0, 0)  -> move to the beginning of the file.\n",
    "          seek(0, 2)  -> move the pointer 0 characters from the end of the file. i.e., move to the end.\n",
    "          seek(15, 1) -> error.\n",
    "          seek(15, 2) -> error.\n",
    "For position values 1 and 2, the offset value should be 0. Else, it'll throw an error."
   ]
  },
  {
   "cell_type": "code",
   "execution_count": 27,
   "metadata": {},
   "outputs": [
    {
     "name": "stdout",
     "output_type": "stream",
     "text": [
      "What is sample text?\n",
      "The sample text is a sample text file that contains some sample text to be used during the file read operations.\n",
      "This is another sample line.\n",
      "And another one.\n",
      "Oh, here's another one.\n",
      "And... the final one.\n",
      "-------------------------\n",
      "\n"
     ]
    }
   ],
   "source": [
    "fp = open('sample/sample.txt', 'r', encoding='utf-8') # computers have ascii encoding but files from internet have utf-8 encoding,\n",
    "content = fp.read() # read func reads the file from start to end and returns a string\n",
    "print(content)\n",
    "print('-------------------------')\n",
    "content = fp.read() # because of the first read(), the file pointer will be at the end after traversing the file char by char, so during this second read(), as the cursor is at the end, it will nothing.\n",
    "print(content) # and hence this prints nothing"
   ]
  },
  {
   "cell_type": "code",
   "execution_count": 28,
   "metadata": {},
   "outputs": [
    {
     "name": "stdout",
     "output_type": "stream",
     "text": [
      "What is sample text?\n",
      "The \n",
      "-----------------------------\n",
      "sample text is a sample text file that contains some sample text to be used during the file read operations.\n",
      "This is another sample line.\n",
      "And another one.\n",
      "Oh, here's another one.\n",
      "And... the final one.\n"
     ]
    }
   ],
   "source": [
    "# read()\n",
    "\n",
    "fp = open('sample/sample.txt','r')\n",
    "content = fp.read(25) # reads only 25 characters from file. Now the pointer will be at the 26th char.\n",
    "print(content)\n",
    "print('-----------------------------')\n",
    "content = fp.read() # now it can read the rest of the file. booyah!\n",
    "print(content)"
   ]
  },
  {
   "cell_type": "code",
   "execution_count": 29,
   "metadata": {},
   "outputs": [
    {
     "name": "stdout",
     "output_type": "stream",
     "text": [
      "['What is sample text?\\n', 'The sample text is a sample text file that contains some sample text to be used during the file read operations.\\n', 'This is another sample line.\\n', 'And another one.\\n', \"Oh, here's another one.\\n\", 'And... the final one.']\n",
      "----------------------\n",
      "['What is sample text?\\n']\n"
     ]
    }
   ],
   "source": [
    "# readlines\n",
    "\n",
    "fp = open('sample/sample.txt', 'r')\n",
    "content = fp.readlines()\n",
    "print(content)\n",
    "print('----------------------')\n",
    "fp = open('sample/sample.txt', 'r')\n",
    "content = fp.readlines()\n",
    "print(content[:1]) # prints only one line (one element)"
   ]
  },
  {
   "cell_type": "code",
   "execution_count": 30,
   "metadata": {},
   "outputs": [
    {
     "name": "stdout",
     "output_type": "stream",
     "text": [
      "What is sample text?\n",
      "\n",
      "-------------------------\n",
      "The sample text is a sample text file that contains some sample text to be used during the file read operations.\n",
      "\n"
     ]
    }
   ],
   "source": [
    "# readline\n",
    "\n",
    "fp = open('sample/sample.txt', 'r')\n",
    "content = fp.readline()\n",
    "print(content) # prints first line\n",
    "print('-------------------------')\n",
    "content = fp.readline()\n",
    "print(content) # prints second line"
   ]
  },
  {
   "cell_type": "code",
   "execution_count": 33,
   "metadata": {},
   "outputs": [
    {
     "name": "stdout",
     "output_type": "stream",
     "text": [
      "What is sample text?\n",
      "\n",
      "The sample text is a sample text file that contains some sample text to be used during the file read operations.\n",
      "\n",
      "This is another sample line.\n",
      "\n",
      "And another one.\n",
      "\n",
      "Oh, here's another one.\n",
      "\n",
      "And... the final one.\n"
     ]
    }
   ],
   "source": [
    "fp = open('sample/sample.txt', 'r')\n",
    "for x in fp:\n",
    "    print(x)"
   ]
  },
  {
   "cell_type": "code",
   "execution_count": 75,
   "metadata": {},
   "outputs": [
    {
     "name": "stdout",
     "output_type": "stream",
     "text": [
      "Demonstrating seek and tell functions.\n",
      "rating seek and tell functions.\n"
     ]
    }
   ],
   "source": [
    "fp = open('sample/sample2.txt', 'r+') # pointer at the start\n",
    "content = fp.read() # pointer at the end\n",
    "print(content)\n",
    "fp.seek(0, 0) # back to the start\n",
    "fp.write('Uh, oh!') # this will overwrite the existing data character by char. Check the file now, or seek to the start before reading content to be able to see the new content as well.\n",
    "content = fp.read()\n",
    "print(content) # check the file now."
   ]
  },
  {
   "cell_type": "code",
   "execution_count": 52,
   "metadata": {},
   "outputs": [
    {
     "data": {
      "text/plain": [
       "17"
      ]
     },
     "execution_count": 52,
     "metadata": {},
     "output_type": "execute_result"
    }
   ],
   "source": [
    "# write operations\n",
    "\n",
    "fp = open('sample/sample2.txt', 'w') # If the file doesn't exist, it will be created.\n",
    "fp.write('This is a sample line in this sample2 text file.')\n",
    "fp.write(' This is appended.')"
   ]
  },
  {
   "cell_type": "code",
   "execution_count": 54,
   "metadata": {},
   "outputs": [
    {
     "data": {
      "text/plain": [
       "48"
      ]
     },
     "execution_count": 54,
     "metadata": {},
     "output_type": "execute_result"
    }
   ],
   "source": [
    "fp = open('sample/sample2.txt', 'w')\n",
    "fp.write('I removed the old content, haha haha haha ha!!!!')"
   ]
  },
  {
   "cell_type": "code",
   "execution_count": 55,
   "metadata": {},
   "outputs": [
    {
     "name": "stdout",
     "output_type": "stream",
     "text": [
      "\n"
     ]
    }
   ],
   "source": [
    "fp = open('sample/sample2.txt', 'w+') # pointer is at the beginning.\n",
    "fp.write('Write and read -> w+ mode.') # now it's at the end of the file.\n",
    "\n",
    "# so now, read operation won't read anything because the pointer is at the end of the file.\n",
    "content = fp.read()\n",
    "print(content)"
   ]
  },
  {
   "cell_type": "code",
   "execution_count": 73,
   "metadata": {},
   "outputs": [
    {
     "name": "stdout",
     "output_type": "stream",
     "text": [
      "0\n",
      "38\n",
      "0\n",
      "Demonstrating seek and tell functions.\n"
     ]
    }
   ],
   "source": [
    "fp = open('sample/sample2.txt', 'w+')\n",
    "print(fp.tell())\n",
    "fp.write('Demonstrating seek and tell functions.')\n",
    "print(fp.tell())\n",
    "fp.seek(0,0)\n",
    "print(fp.tell())\n",
    "content = fp.read()\n",
    "print(content)"
   ]
  },
  {
   "cell_type": "code",
   "execution_count": 65,
   "metadata": {},
   "outputs": [
    {
     "name": "stdout",
     "output_type": "stream",
     "text": [
      "What is this file?\n",
      "This is a sample text file containing some sample text.\n",
      "This is a sample line.\n",
      "Hi, I'm another one.\n",
      "oh, this is another one.\n",
      "And I, am the last one.\n",
      "Just checking the r+ mode.\n",
      "\n",
      "Just checking the r+ mode.\n",
      "What is this file?\n",
      "This is a sample text file containing some sample text.\n",
      "This is a sample line.\n",
      "Hi, I'm another one.\n",
      "oh, this is another one.\n",
      "And I, am the last one.\n",
      "Just checking the r+ mode.\n",
      "\n",
      "Just checking the r+ mode.\n",
      "\n",
      "Just checking the r+ mode.\n"
     ]
    }
   ],
   "source": [
    "# r+ mode\n",
    "\n",
    "fp = open('sample/sample.txt', 'r+')\n",
    "content = fp.read()\n",
    "print(content)\n",
    "\n",
    "fp.write('\\n\\nJust checking the r+ mode.')\n",
    "fp.seek(0,0)\n",
    "content = fp.read()\n",
    "print(content)"
   ]
  },
  {
   "cell_type": "code",
   "execution_count": 71,
   "metadata": {},
   "outputs": [
    {
     "name": "stdout",
     "output_type": "stream",
     "text": [
      "250\n",
      "250\n",
      "0\n",
      "What is this file?\n",
      "This is a sample text file containing some sample text.\n",
      "This is a sample line.\n",
      "Hi, I'm another one.\n",
      "oh, this is another one.\n",
      "And I, am the last one.\n",
      "Just checking the r+ mode.\n",
      "\n",
      "Just checking the r+ mode.\n",
      "\n",
      "Just checking the r+ mode.\n"
     ]
    }
   ],
   "source": [
    "# a and a+\n",
    "\n",
    "fp = open('sample/sample.txt', 'a')\n",
    "print(fp.tell())\n",
    "fp = open('sample/sample.txt', 'a+')\n",
    "print(fp.tell())\n",
    "print(fp.seek(0,0))\n",
    "content = fp.read()\n",
    "print(content)"
   ]
  },
  {
   "cell_type": "markdown",
   "metadata": {},
   "source": [
    "## JSON processing\n",
    "\n",
    "JSON is similar to dictionaries in python.\n",
    "differences are:\n",
    "arrays                   - lists, tuples\n",
    "doubles to store strings - single, double, and triple quotes can be used\n",
    "\n",
    "In python, we use the json module to process json modules.\n",
    "\n",
    "Reading a json file is like reading any other file.\n",
    "\n",
    "You can convert the json data into a python compatible form (dict) using the json.loads()."
   ]
  },
  {
   "cell_type": "code",
   "execution_count": null,
   "metadata": {},
   "outputs": [],
   "source": [
    "# don't run this section cause there's no json file in the specified folder\n",
    "\n",
    "import json \n",
    "\n",
    "fp = open('sample/sample_json.json', 'r') # there's no json file here at the moment.\n",
    "content = fp.read()\n",
    "print(content)\n",
    "\n",
    "d = json.loads(fp)\n",
    "print(d) # prints a dictionary\n",
    "\n",
    "print(d['log']['name']) # this is how you can access a nested dictionary.\n",
    "\n",
    "# modifying the python dictionary doesn't modify the json file. You have to explicitly perform write operation to write to the json file.\n",
    "#h = json.dumps(d) # dictionary to json convertion\n",
    "h = json.dumps(d, indent = 4) # indented json file # third parameter -> sort_keys=True will sort the json data in alphabetical order\n",
    "hp = open('sample/sample_json.json', 'w')\n",
    "hp.write(h)\n",
    "hp.close()"
   ]
  },
  {
   "cell_type": "markdown",
   "metadata": {},
   "source": [
    "## XML parsing\n",
    "\n",
    "install xml to dict module using pip\n",
    "\n",
    "-> pip install xmltodict\n",
    "import xmltodict\n",
    "\n",
    "Reading, updating is just like json.\n",
    "Instead of,\n",
    "loads -> parse\n",
    "dumps -> unparse"
   ]
  },
  {
   "cell_type": "markdown",
   "metadata": {},
   "source": [
    "# Regular Expressions\n",
    "\n",
    "All the functions are contained in the module called re.\n",
    "\n",
    "Meta characters:\n",
    "- . -> matches any single char\n",
    "- [a-zA-Z] -> this is called a char class and it matches a...z as well as A...Z but only one char\n",
    "- [0-9] -> this is called a digit class and it matches any number between 0 and 9 but only one digit\n",
    "    - + -> one or more occurences, so, match atleast one char. eg: [a-z]+\n",
    "    - * -> zero or more occurences. eg: [A-Z]*\n",
    "    - ^ -> match at the start of the string\n",
    "    - $ -> match at the end of the string\n",
    "    - ? -> optionally match\n",
    "    \n",
    "Meta characters shorthand representation:\n",
    "- [0-9]        -> \\d (all digits)\n",
    "- [^0-9]       -> \\D (everything but digits)\n",
    "- [a-zA-Z0-9]  -> \\w (alphabets and digits and underscore)\n",
    "-              -> \\W (compliment of \\w)\n",
    "Examples:\n",
    "1. [a-z]{4}     -> 4 characters will be matched, rest will be discarded.\n",
    "2. [a-z]{2, 4}  -> 2 to 4 characters will be matched, rest will be discarded.\n",
    "\n",
    "re.compile() - will hold the pattern\n",
    "re.findall(pattern, string) - will check the pattern against the string and returns the string if valid otherwise an empty list is returned\n",
    "re.search(pattern, string) - will search for the pattern in a given string but will return some metadata as well if valid and will return None if invalid\n",
    "group() -> to fetch the value of the matched string from the search(). If None was returned by search(), this will throw an error \"Nonetype doesn't have an attribute called group\". group() can be used to retrieve parts of the matched string. Check the example."
   ]
  },
  {
   "cell_type": "code",
   "execution_count": 87,
   "metadata": {},
   "outputs": [
    {
     "name": "stdout",
     "output_type": "stream",
     "text": [
      "PAN (valid): ['ABCDE1234Z']\n",
      "PAN (invalid): []\n",
      "a: []\n",
      "b: ['ABCDE1234Z']\n",
      "c: ['ABCDE1234Z']\n",
      "c: []\n"
     ]
    }
   ],
   "source": [
    "# regex example program\n",
    "# PAN number validation\n",
    "\n",
    "import re\n",
    "\n",
    "PAN = 'ABCDE1234Z'\n",
    "PAN_invalid = 'ABCDE1234'\n",
    "pattern = re.compile(\"[A-Z]{5}[0-9]{4}[A-Z]\") # match 5 alphabets followed by 4 digits and one alphabet\n",
    "result = re.findall(pattern, PAN) # returns the string if it is valid, otherwise empty string\n",
    "print('PAN (valid):', result)\n",
    "result = re.findall(pattern, PAN_invalid)\n",
    "print('PAN (invalid):', result)\n",
    "\n",
    "# the problem with the above pattern is that, this -> 'AAAAAABCDE1234Z' or 'ABCDE1234ZZZZ' or 'AAAAABCDE1234ZZZZ' will also be considered valid because the mentioned pattern is occuring somewhere in the given string.\n",
    "# fix\n",
    "\n",
    "a = 'AAAABCDE1234Z'\n",
    "b = 'ABCDE1234Z'\n",
    "c = 'ABCDE1234ZZZZ'\n",
    "pattern = re.compile(\"^[A-Z]{5}[0-9]{4}[A-Z]\") # only 5 alphabets in the beginning. The rest of the pattern will automatically work.\n",
    "result = re.findall(pattern, a)\n",
    "print('a:', result) # invalid\n",
    "result = re.findall(pattern, b)\n",
    "print('b:', result) # valid\n",
    "result = re.findall(pattern, c) # but this should be invalid. so we'll use the $ operator.\n",
    "print('c:', result)\n",
    "# pattern for both starting and ending and inbetween\n",
    "pattern = re.compile(\"^[A-Z]{5}[0-9]{4}[A-Z]$\")\n",
    "result = re.findall(pattern, c)\n",
    "print('c:', result) # now it's invalid, aha!"
   ]
  },
  {
   "cell_type": "code",
   "execution_count": 107,
   "metadata": {},
   "outputs": [
    {
     "name": "stdout",
     "output_type": "stream",
     "text": [
      "['9007181223']\n",
      "[]\n",
      "[]\n",
      "+91 9007181223\n",
      "9999007181\n",
      "9007181223\n"
     ]
    }
   ],
   "source": [
    "# phone number validation\n",
    "\n",
    "pattern = re.compile(\"^[6-9][0-9]{9}$\")\n",
    "n1 = '9007181223'\n",
    "n2 = '9999007181223'\n",
    "n3 = '9007181223999'\n",
    "result = re.findall(pattern, n1)\n",
    "print(result)\n",
    "result = re.findall(pattern, n2)\n",
    "print(result)\n",
    "result = re.findall(pattern, n3)\n",
    "print(result)\n",
    "\n",
    "pattern = re.compile(\"(\\+91\\s)?[6-9][0-9]{9}\") # here grouping is used for +91(+ is escaped using \\) and the '?' says that it's optional. The '\\s' is used to match white space.\n",
    "n1 = '+91 9007181223'\n",
    "n2 = '9999007181223'\n",
    "n3 = '9007181223999'\n",
    "result = re.search(pattern, n1)\n",
    "print(result.group())\n",
    "result = re.search(pattern, n2) # still invalid but prints because it just searches for the pattern somewhere in the string.\n",
    "print(result.group())\n",
    "result = re.search(pattern, n3) # still invalid but prints because it just searches for the pattern somewhere in the string.\n",
    "print(result.group())"
   ]
  },
  {
   "cell_type": "code",
   "execution_count": 93,
   "metadata": {},
   "outputs": [
    {
     "name": "stdout",
     "output_type": "stream",
     "text": [
      "['01-01-1979']\n",
      "[]\n"
     ]
    }
   ],
   "source": [
    "# date validation\n",
    "\n",
    "pattern = re.compile(\"^[0-9]{2}-[0-9]{2}-[0-9]{4}$\")\n",
    "d1 = '01-01-1979'\n",
    "d2 = '1-1-1979'\n",
    "result = re.findall(pattern, d1)\n",
    "print(result)\n",
    "result = re.findall(pattern, d2)\n",
    "print(result)"
   ]
  },
  {
   "cell_type": "code",
   "execution_count": 101,
   "metadata": {},
   "outputs": [
    {
     "name": "stdout",
     "output_type": "stream",
     "text": [
      "01-01-1979\n",
      "\n",
      "Groups:\n",
      "0: 01-01-1979\n",
      "1: 01\n",
      "2: 01\n",
      "3: 1979\n",
      "\n",
      "Named groups:\n",
      "0: 01-01-1979\n",
      "day: 01\n",
      "month: 01\n",
      "year: 1979\n"
     ]
    }
   ],
   "source": [
    "# search and group\n",
    "\n",
    "pattern = re.compile(\"^[0-9]{2}-[0-9]{2}-[0-9]{4}$\")\n",
    "d1 = '01-01-1979'\n",
    "d2 = '1-1-1979'\n",
    "result = re.search(pattern, d1)\n",
    "if result:\n",
    "    print(result.group())\n",
    "else:\n",
    "    print(\"Invalid.\")\n",
    "    \n",
    "# groups\n",
    "pattern = re.compile(\"^([0-9]{2})-([0-9]{2})-([0-9]{4})$\")\n",
    "d1 = '01-01-1979'\n",
    "d2 = '1-1-1979'\n",
    "result = re.search(pattern, d1)\n",
    "print('\\nGroups:')\n",
    "if result:\n",
    "    print('0:', result.group(0))\n",
    "    print('1:', result.group(1))\n",
    "    print('2:', result.group(2))\n",
    "    print('3:', result.group(3))\n",
    "else:\n",
    "    print(\"Invalid.\")\n",
    "    \n",
    "# named groups\n",
    "pattern = re.compile(\"^(?P<day>[0-9]{2})-(?P<month>[0-9]{2})-(?P<year>[0-9]{4})$\")\n",
    "d1 = '01-01-1979'\n",
    "d2 = '1-1-1979'\n",
    "result = re.search(pattern, d1)\n",
    "print('\\nNamed groups:')\n",
    "if result:\n",
    "    print('0:', result.group(0))\n",
    "    print('day:', result.group('day'))\n",
    "    print('month:', result.group('month'))\n",
    "    print('year:', result.group('year'))\n",
    "else:\n",
    "    print(\"Invalid.\")"
   ]
  },
  {
   "cell_type": "code",
   "execution_count": 135,
   "metadata": {},
   "outputs": [
    {
     "name": "stdout",
     "output_type": "stream",
     "text": [
      "https://www.edyoda.com\n",
      "example@domain.com\n"
     ]
    }
   ],
   "source": [
    "# get url regex\n",
    "\n",
    "u = 'https://www.edyoda.com'\n",
    "pattern = re.compile(\"http[s]?://(www.[a-z]+.com)\")\n",
    "result = re.search(pattern, u)\n",
    "if result:\n",
    "    print(result.group())\n",
    "else:\n",
    "    print('Invalid.')\n",
    "    \n",
    "    \n",
    "# email validation\n",
    "e = 'example@domain.com'\n",
    "pattern = re.compile(\"^([a-z0-9\\.]+)@[a-z]+\\.(com|org|edu|in)$\")\n",
    "result = re.search(pattern, e)\n",
    "if result:\n",
    "    print(result.group())\n",
    "else:\n",
    "    print('Invalid.')"
   ]
  },
  {
   "cell_type": "markdown",
   "metadata": {},
   "source": [
    "## Comprehension\n",
    "\n",
    "Comprehensions in Python provide us with a short and concise way to construct new sequences (such as lists, set, dictionary etc.) using sequences which have been already defined.\n",
    "\n",
    "Python supports the following 4 types of comprehensions:\n",
    "- List Comprehensions\n",
    "- Dictionary Comprehensions\n",
    "- Set Comprehensions\n",
    "- Generator Comprehensions\n",
    "\n",
    "Comprehension can be applied only when,\n",
    "- can be applied only on iterable items\n",
    "- the same operation is going to be applied on all the elements of the iterable\n",
    "- the result is another list\n",
    "\n",
    "Syntax:\n",
    "\n",
    "For lists: (similar for sets but different brackets)\n",
    "output_list = [output_exp for var in input_list if (var satisfies this condition)]\n",
    "\n",
    "For dictionaries:\n",
    "output_dict = {key:value for (key, value) in iterable if (key, value satisfy this condition)}\n",
    "\n",
    "Every comprehension can be converted into a for loop, but the reverse is not possible."
   ]
  },
  {
   "cell_type": "code",
   "execution_count": 114,
   "metadata": {},
   "outputs": [
    {
     "name": "stdout",
     "output_type": "stream",
     "text": [
      "[1, 4, 9, 16, 25]\n",
      "[1, 4, 9, 16, 25]\n",
      "[2, 4, 6, 8]\n",
      "[2, 4, 6, 8]\n",
      "[1, 2, 3, 4]\n",
      "[1, 2, 3, 4]\n"
     ]
    }
   ],
   "source": [
    "# list comprehension example program\n",
    "\n",
    "# 1\n",
    "l = [1,2,3,4,5]\n",
    "l2 = []\n",
    "for i in l:\n",
    "    l2.append(i*i)\n",
    "print(l2)\n",
    "\n",
    "# or\n",
    "l2 = [v*v for v in l]\n",
    "print(l2)\n",
    "\n",
    "\n",
    "# 2\n",
    "l = [1,2,3,4,5,6,7,8,9]\n",
    "l2 = []\n",
    "for i in l:\n",
    "    if i % 2 == 0:\n",
    "        l2.append(i)\n",
    "print(l2)\n",
    "\n",
    "# or\n",
    "l2 = [i for i in l if i % 2 == 0]\n",
    "print(l2)\n",
    "\n",
    "\n",
    "# 3\n",
    "l = ['a', 'bb', 'ccc', 'dddd']\n",
    "l2 = []\n",
    "for s in l:\n",
    "    l2.append(len(s))\n",
    "print(l2)\n",
    "\n",
    "# or\n",
    "l2 = [len(s) for s in l]\n",
    "print(l2)"
   ]
  },
  {
   "cell_type": "code",
   "execution_count": 120,
   "metadata": {},
   "outputs": [
    {
     "name": "stdout",
     "output_type": "stream",
     "text": [
      "[(1, 10), (1, 11), (2, 10), (2, 11)]\n",
      "[1, 2, 3, 4, 5, 6, 7, 8, 9]\n",
      "['odd', 'even', 'odd', 'even', 'odd']\n"
     ]
    }
   ],
   "source": [
    "# nested\n",
    "\n",
    "l = [(i,j) for i in range(1,3) for j in range(10,12)]\n",
    "print(l)\n",
    "\n",
    "l = [[1,2,3],[4,5,6],[7,8,9]]\n",
    "l2 = [j for i in l for j in i]\n",
    "print(l2)\n",
    "\n",
    "l = [1,2,3,4,5]\n",
    "# l2 = ['odd', 'even', 'odd', 'even', 'odd']\n",
    "l2 = ['even' if i % 2 == 0 else 'odd' for i in l] # 'even' if i % 2 == 0 else 'odd' -> ternary operator\n",
    "print(l2)"
   ]
  },
  {
   "cell_type": "code",
   "execution_count": 128,
   "metadata": {},
   "outputs": [
    {
     "name": "stdout",
     "output_type": "stream",
     "text": [
      "{1: 1, 2: 4, 3: 9, 4: 16}\n",
      "{'a': 97, 'b': 98, 'c': 99, 'd': 100, 'e': 101, 'f': 102, 'g': 103, 'h': 104, 'i': 105, 'j': 106, 'k': 107, 'l': 108, 'm': 109, 'n': 110, 'o': 111, 'p': 112, 'q': 113, 'r': 114, 's': 115, 't': 116, 'u': 117, 'v': 118, 'w': 119, 'x': 120, 'y': 121, 'z': 122}\n",
      "{97: 'a', 98: 'b', 99: 'c', 100: 'd', 101: 'e', 102: 'f', 103: 'g', 104: 'h', 105: 'i', 106: 'j', 107: 'k', 108: 'l', 109: 'm', 110: 'n', 111: 'o', 112: 'p', 113: 'q', 114: 'r', 115: 's', 116: 't', 117: 'u', 118: 'v', 119: 'w', 120: 'x', 121: 'y', 122: 'z'}\n",
      "{97: 'a', 98: 'b', 99: 'c', 100: 'd', 101: 'e', 102: 'f', 103: 'g', 104: 'h', 105: 'i', 106: 'j', 107: 'k', 108: 'l', 109: 'm', 110: 'n', 111: 'o', 112: 'p', 113: 'q', 114: 'r', 115: 's', 116: 't', 117: 'u', 118: 'v', 119: 'w', 120: 'x', 121: 'y', 122: 'z'}\n"
     ]
    }
   ],
   "source": [
    "# comprehension in dictionaries\n",
    "d = {x:x**2 for x in range(1,5)}\n",
    "print(d)\n",
    "\n",
    "d = {chr(i):i for i in range(97, 123)}\n",
    "print(d)\n",
    "\n",
    "d2 = {d[k]:k for k in d.keys()} # reversing the dictionary inside out\n",
    "print(d2)\n",
    "\n",
    "# or this method will also work for reversing\n",
    "d2 = {v:k for k,v in d.items()}\n",
    "print(d2)"
   ]
  }
 ],
 "metadata": {
  "kernelspec": {
   "display_name": "Python 3",
   "language": "python",
   "name": "python3"
  },
  "language_info": {
   "codemirror_mode": {
    "name": "ipython",
    "version": 3
   },
   "file_extension": ".py",
   "mimetype": "text/x-python",
   "name": "python",
   "nbconvert_exporter": "python",
   "pygments_lexer": "ipython3",
   "version": "3.7.4"
  }
 },
 "nbformat": 4,
 "nbformat_minor": 2
}
