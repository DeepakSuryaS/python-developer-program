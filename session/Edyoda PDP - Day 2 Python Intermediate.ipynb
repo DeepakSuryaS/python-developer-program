{
 "cells": [
  {
   "cell_type": "markdown",
   "metadata": {},
   "source": [
    "## Some builtin math functions"
   ]
  },
  {
   "cell_type": "code",
   "execution_count": 6,
   "metadata": {},
   "outputs": [
    {
     "name": "stdout",
     "output_type": "stream",
     "text": [
      "600\n",
      "300\n",
      "100\n",
      "26\n",
      "25.55\n"
     ]
    }
   ],
   "source": [
    "# sum function\n",
    "l = [100,200,300]\n",
    "print(sum(l))  # sum function takes arguments and returns the sum of all the elements that are inside it\n",
    "\n",
    "print(max(l)) # returns max of the elements. It can take any number of elements.\n",
    "print(min(l))\n",
    "\n",
    "a = 25.54699\n",
    "print(round(a)) # rounds a number to the nearest value\n",
    "print(round(a, 2)) # optional second parameter to specify the number of decimal points to round it to"
   ]
  },
  {
   "cell_type": "markdown",
   "metadata": {},
   "source": [
    "## Math module"
   ]
  },
  {
   "cell_type": "code",
   "execution_count": 38,
   "metadata": {},
   "outputs": [
    {
     "name": "stdout",
     "output_type": "stream",
     "text": [
      "list: [0.1, 0.1, 0.1, 0.1, 0.1, 0.1, 0.1, 0.1, 0.1, 0.1]\n",
      "By sum function: 0.9999999999999999\n",
      "By math module: 1.0\n",
      "Lower bound: 15 , Upper bound: 16\n",
      "Square root: 3.0\n",
      "Factorial: 120\n",
      "Modf: (0.5555999999999983, 45.0)\n",
      "0.5555999999999983 , 45.0\n",
      "Exponentiation: 100.0\n",
      "Log: 3.3219280948873626\n",
      "Default base is e: 2.302585092994046\n",
      "0.3010299956639812\n",
      "3.321928094887362\n",
      "Sin in degress: -0.9880316240928618\n",
      "Sin in radians: 0.49999999999999994 which is 1/2.\n",
      "Cos: 0.8660254037844387\n",
      "Tan: 0.5773502691896257\n"
     ]
    }
   ],
   "source": [
    "import math\n",
    "\n",
    "l = [0.1] * 10\n",
    "print('list:',l)\n",
    "print('By sum function:',sum(l)) # this is the problem with sum. Instead of returning 1.0, it returns 0.9999999\n",
    "\n",
    "print('By math module:',math.fsum(l)) # math module fixes this error\n",
    "\n",
    "# lower bound and upper bound\n",
    "b = 15.5559\n",
    "print('Lower bound:',math.floor(b),', Upper bound:',math.ceil(b))\n",
    "\n",
    "b = 9\n",
    "print('Square root:',math.sqrt(c))\n",
    "print('Factorial:',math.factorial(5))\n",
    "\n",
    "b = 45.5556\n",
    "print('Modf:',math.modf(b)) # this will separate the integer part and decimal part\n",
    "decimal_part, integer_part = math.modf(b) # you can also assign the values to variables\n",
    "print(decimal_part, ',', integer_part)\n",
    "\n",
    "print('Exponentiation:',math.pow(10, 2)) # this can also be done with ** operator\n",
    "\n",
    "print('Log:', math.log(10,2)) # log(n, base)\n",
    "print('Default base is e:', math.log(10)) # also called natural log\n",
    "print(math.log10(2)) # 10 is the base\n",
    "print(math.log2(10)) # 2 is the base\n",
    "\n",
    "# trigonometry\n",
    "print('Sin in degress:', math.sin(30)) # here the 30 is in degrees. So, if you want the actual answer that sin would give, the argument should be in radians\n",
    "print('Sin in radians:', math.sin(math.radians(30)), 'which is 1/2.')\n",
    "print('Cos:', math.cos(math.radians(30)))\n",
    "print('Tan:', math.tan(math.radians(30)))"
   ]
  },
  {
   "cell_type": "markdown",
   "metadata": {},
   "source": [
    "## Random Module"
   ]
  },
  {
   "cell_type": "code",
   "execution_count": 83,
   "metadata": {},
   "outputs": [
    {
     "name": "stdout",
     "output_type": "stream",
     "text": [
      "Default random (0 to 1): 0.10535199584813026\n",
      "Custom range: 28\n",
      "Rand range: 97\n",
      "Random choice: 5\n",
      "Random float number: 19.27830982489821\n"
     ]
    }
   ],
   "source": [
    "import random\n",
    "\n",
    "print('Default random (0 to 1):', random.random()) # the random function from the random module will generate a random number between 0 and 1\n",
    "print('Custom range:', random.randint(1,100)) # random number between 1 and 100, 100 is included\n",
    "print('Rand range:', random.randrange(1,100)) # same as randint but here 100 is not included\n",
    "\n",
    "l = [1,2,3,4,5,6]\n",
    "print('Random choice:',random.choice(l)) # picks a random element from the list\n",
    "\n",
    "print('Random float number:', random.uniform(10,20)) # random float number"
   ]
  },
  {
   "cell_type": "markdown",
   "metadata": {},
   "source": [
    "## User Defined Functions\n",
    "->  code reuse\n",
    "->  modularity"
   ]
  },
  {
   "cell_type": "code",
   "execution_count": 3,
   "metadata": {},
   "outputs": [
    {
     "name": "stdout",
     "output_type": "stream",
     "text": [
      "nohtyp\n",
      "[5, 4, 4, 3, 2, 1]\n",
      "401\n"
     ]
    }
   ],
   "source": [
    "# valeu reverse\n",
    "def reverse_value(v):\n",
    "    if(type(v) == list or type(v) == str):\n",
    "        reverse = v[::-1]\n",
    "    else:\n",
    "        temp = str(v)\n",
    "        reverse = temp[::-1]   \n",
    "    return reverse  # if not returned, then the var rev will contain None. You can write functions that don't return anything.\n",
    "    \n",
    "reversed = reverse_value('python')\n",
    "print(reversed)\n",
    "\n",
    "l = [1,2,3,4,4,5]\n",
    "rev = reverse_value(l)\n",
    "print(rev)\n",
    "\n",
    "n = 104\n",
    "rev = reverse_value(n) # slicing won't handle integers like this. So, our function won't work. We need to handle this.\n",
    "print(rev)"
   ]
  },
  {
   "cell_type": "markdown",
   "metadata": {},
   "source": [
    "### Different ways of passing parameters to a function\n",
    "\n",
    "-> positional (or required) arguments : Required arguments are the mandatory arguments of a function. These argument values must be passed in correct number and order during function call. Total number of arguments in the function call and definition are the same.\n",
    "\n",
    "-> Default argument : Default values indicate that the function argument will take that value if no argument value is passed during function call. The default value is assigned by using assignment (=) operator. Takes an argument otherwise has a default value.\n",
    "\n",
    "-> Keyword argument : The keywords are mentioned during the function call along with their corresponding values. These keywords are mapped with the function arguments so the function can easily identify the corresponding values even if the order is not maintained during the function call.\n",
    "\n",
    "-> Variable length arguments : This is very useful when we do not know the exact number of arguments that will be passed to a function. Or we can have a design where any number of arguments can be passed based on the requirement. Note: * -> will make the arguments a tuple ; ** -> will make the arguments a dictionary.\n"
   ]
  },
  {
   "cell_type": "code",
   "execution_count": 5,
   "metadata": {},
   "outputs": [
    {
     "name": "stdout",
     "output_type": "stream",
     "text": [
      "False\n"
     ]
    }
   ],
   "source": [
    "# positional argument example\n",
    "def linear_search(l, key):\n",
    "    for v in l:\n",
    "        if key == v:\n",
    "            return True\n",
    "    else:\n",
    "        return False\n",
    "    \n",
    "l = [1,2,3,4,5,6]\n",
    "print(linear_search(l, 7))"
   ]
  },
  {
   "cell_type": "code",
   "execution_count": 35,
   "metadata": {},
   "outputs": [
    {
     "name": "stdout",
     "output_type": "stream",
     "text": [
      "97 122\n",
      "65 90\n",
      "Random 8 character password: I1g530?3\n",
      "100;200300\n"
     ]
    }
   ],
   "source": [
    "# default argument example\n",
    "\n",
    "# password generator function\n",
    "\n",
    "# we will make use of ord and chr\n",
    "print(ord('a'), ord('z'))\n",
    "print(ord('A'), ord('Z'))\n",
    "\n",
    "import random\n",
    "\n",
    "def gen_password(length=8): # If argument is provided, it will generate a password of that length else 8 characters.\n",
    "    special_chars = ['!', '@', '#', '$', '%', '^', '&', '*', '(', ')', ';', '<', '>', '?', '.', ',']\n",
    "    upper = chr(random.randint(65,90))\n",
    "    lower = chr(random.randint(97,122))\n",
    "    special_char = random.choice(special_chars)\n",
    "    digit = random.randint(10000, 99999)\n",
    "    \n",
    "    s = {upper, lower, special_char, digit}\n",
    "    paswd = ('').join(str(i) for i in s)\n",
    "    passwd = random.sample(paswd, length) # for the length of the password\n",
    "    password = ('').join(passwd)\n",
    "    \n",
    "    return password\n",
    "\n",
    "print('Random 8 character password:', gen_password(8))\n",
    "\n",
    "# simply, the print function is also an example as it can parameters for separator and newline char.\n",
    "print(100,200, sep=';', end='') # instead of comma it uses semicolon as a separator; also the newline char is removed.\n",
    "print(300) # this is one the same line as the previous one because the previous one doesn't have a newline at the end.\n"
   ]
  },
  {
   "cell_type": "code",
   "execution_count": 38,
   "metadata": {},
   "outputs": [
    {
     "name": "stdout",
     "output_type": "stream",
     "text": [
      "Valid\n",
      "1;2.3\n"
     ]
    }
   ],
   "source": [
    "# keyword arguments example\n",
    "\n",
    "def validate(username, password):\n",
    "    if username == 'ABC' and password == 'abc@123':\n",
    "        return 'Valid'\n",
    "    else:\n",
    "        return 'Invalid'\n",
    "\n",
    "print(validate(password='abc@123', username='ABC'))\n",
    "\n",
    "# the print function is an example for this too, because the keywords sep and end can be used to specify separator and newline character in any order.\n",
    "print(1,2, end='.', sep=';') # here the newline character is replaced with a period.\n",
    "print(3)"
   ]
  },
  {
   "cell_type": "code",
   "execution_count": 54,
   "metadata": {},
   "outputs": [
    {
     "name": "stdout",
     "output_type": "stream",
     "text": [
      "[1, 2, 3, 4, 5, 6, 7, 9]\n",
      "(9, 8, 7, 7, 6)\n",
      "{'username': 'Surya', 'email': 'example@abc.com', 'contact': 9009281583, 'dob': '12-8-2200'}\n",
      "{'username': 'Surya', 'email': 'example@abc.com', 'contact': 9009281583}\n",
      "{'username': 'Surya', 'email': 'example@abc.com', 'dob': '12-8-2200'}\n",
      "(1, 2, 3) {'username': 'Surya', 'email': 'example@abc.com', 'dob': '12-8-2200'}\n",
      "1 2 (3,) {'username': 'Surya', 'email': 'example@abc.com', 'dob': '12-8-2200'}\n"
     ]
    },
    {
     "ename": "TypeError",
     "evalue": "get_details_combo_1() missing 2 required positional arguments: 'n1' and 'n2'",
     "output_type": "error",
     "traceback": [
      "\u001b[0;31m---------------------------------------------------------------------------\u001b[0m",
      "\u001b[0;31mTypeError\u001b[0m                                 Traceback (most recent call last)",
      "\u001b[0;32m<ipython-input-54-af8d763d8fda>\u001b[0m in \u001b[0;36m<module>\u001b[0;34m\u001b[0m\n\u001b[1;32m     33\u001b[0m \u001b[0mget_details_combo\u001b[0m\u001b[0;34m(\u001b[0m\u001b[0;36m1\u001b[0m\u001b[0;34m,\u001b[0m\u001b[0;36m2\u001b[0m\u001b[0;34m,\u001b[0m\u001b[0;36m3\u001b[0m\u001b[0;34m,\u001b[0m\u001b[0musername\u001b[0m\u001b[0;34m=\u001b[0m\u001b[0;34m'Surya'\u001b[0m\u001b[0;34m,\u001b[0m \u001b[0memail\u001b[0m\u001b[0;34m=\u001b[0m\u001b[0;34m'example@abc.com'\u001b[0m\u001b[0;34m,\u001b[0m \u001b[0mdob\u001b[0m\u001b[0;34m=\u001b[0m\u001b[0;34m'12-8-2200'\u001b[0m\u001b[0;34m)\u001b[0m \u001b[0;31m# combine positional and keyword\u001b[0m\u001b[0;34m\u001b[0m\u001b[0;34m\u001b[0m\u001b[0m\n\u001b[1;32m     34\u001b[0m \u001b[0mget_details_combo_1\u001b[0m\u001b[0;34m(\u001b[0m\u001b[0;36m1\u001b[0m\u001b[0;34m,\u001b[0m\u001b[0;36m2\u001b[0m\u001b[0;34m,\u001b[0m\u001b[0;36m3\u001b[0m\u001b[0;34m,\u001b[0m\u001b[0musername\u001b[0m\u001b[0;34m=\u001b[0m\u001b[0;34m'Surya'\u001b[0m\u001b[0;34m,\u001b[0m \u001b[0memail\u001b[0m\u001b[0;34m=\u001b[0m\u001b[0;34m'example@abc.com'\u001b[0m\u001b[0;34m,\u001b[0m \u001b[0mdob\u001b[0m\u001b[0;34m=\u001b[0m\u001b[0;34m'12-8-2200'\u001b[0m\u001b[0;34m)\u001b[0m \u001b[0;31m# 1 and 2 for n1 and n2; 3 for argss, rest for kwargs\u001b[0m\u001b[0;34m\u001b[0m\u001b[0;34m\u001b[0m\u001b[0m\n\u001b[0;32m---> 35\u001b[0;31m \u001b[0mget_details_combo_1\u001b[0m\u001b[0;34m(\u001b[0m\u001b[0musername\u001b[0m\u001b[0;34m=\u001b[0m\u001b[0;34m'Surya'\u001b[0m\u001b[0;34m,\u001b[0m \u001b[0memail\u001b[0m\u001b[0;34m=\u001b[0m\u001b[0;34m'example@abc.com'\u001b[0m\u001b[0;34m,\u001b[0m \u001b[0mdob\u001b[0m\u001b[0;34m=\u001b[0m\u001b[0;34m'12-8-2200'\u001b[0m\u001b[0;34m)\u001b[0m\u001b[0;34m\u001b[0m\u001b[0;34m\u001b[0m\u001b[0m\n\u001b[0m",
      "\u001b[0;31mTypeError\u001b[0m: get_details_combo_1() missing 2 required positional arguments: 'n1' and 'n2'"
     ]
    }
   ],
   "source": [
    "# variable number of arguments example\n",
    "\n",
    "# *  -> will make the arguments a tuple\n",
    "# ** -> will make the arguments a dictionary\n",
    "\n",
    "# variable number of positional arguments\n",
    "def append_multiple(*varargs):  # it doesn't really have to be named varargs\n",
    "    l = []\n",
    "    for i in varargs:\n",
    "        l.append(i)\n",
    "    \n",
    "    return l\n",
    "\n",
    "def add_more(*args):\n",
    "    print(args) # we didn't make it a list, so here it's a tuple\n",
    "\n",
    "print(append_multiple(1,2,3,4,5,6,7,9))\n",
    "add_more(9,8,7,7,6)\n",
    "\n",
    "# variable number of keyword arguments\n",
    "def get_details_kwargs(**kwargs): # kwargs is short for keyword arguments\n",
    "    print(kwargs)\n",
    "    \n",
    "def get_details_combo(*args, **kwargs): # combine positional and keyword\n",
    "    print(args, kwargs)\n",
    "    \n",
    "def get_details_combo_1(n1, n2, *args, **kwargs):\n",
    "    print(n1,n2,args, kwargs)\n",
    "    \n",
    "get_details_kwargs(username='Surya', email='example@abc.com', contact=9009281583, dob='12-8-2200')\n",
    "get_details_kwargs(username='Surya', email='example@abc.com', contact=9009281583)\n",
    "get_details_kwargs(username='Surya', email='example@abc.com', dob='12-8-2200')\n",
    "get_details_combo(1,2,3,username='Surya', email='example@abc.com', dob='12-8-2200') # combine positional and keyword\n",
    "get_details_combo_1(1,2,3,username='Surya', email='example@abc.com', dob='12-8-2200') # 1 and 2 for n1 and n2; 3 for argss, rest for kwargs\n",
    "get_details_combo_1(username='Surya', email='example@abc.com', dob='12-8-2200') # throws error because of missing n1 and n2"
   ]
  },
  {
   "cell_type": "code",
   "execution_count": 70,
   "metadata": {},
   "outputs": [
    {
     "name": "stdout",
     "output_type": "stream",
     "text": [
      "6\n",
      "6\n",
      "pqr\n",
      "6\n",
      "pythonjavaruby\n"
     ]
    }
   ],
   "source": [
    "def add(n1, n2, n3):\n",
    "    return n1 + n2 + n3\n",
    "\n",
    "l = [1, 2, 3] # to pass these three values as n1, n2, and n3... (a tuple can also be passed like this)\n",
    "print(add(l[0], l[1], l[2])) # we can either do this or...\n",
    "print(add(*l)) # this! This will convert the list into positional arguments.\n",
    "\n",
    "s = 'pqr'\n",
    "print(add(*s))\n",
    "\n",
    "#s = \"pqrs\" # here, there are four positional arguments but the func takes only three. So, we'll get an error.\n",
    "#print(add(*s))\n",
    "\n",
    "d = {1:'python', 2:'java', 3:'ruby'}\n",
    "print(add(*d)) # using positional arguments (*) in case of dictionaries will pass only the keys.\n",
    "#print(add(**d)) # double asterisks (**) will pass (unpack) the values as it is based on keyword arguments. But, we'll get an error.\n",
    "\n",
    "# that is because, when we pass dictionaries as keyword arguments, the keys should be same as the function parameters. In this case they should be n1, n2, n3.\n",
    "d = {'n1':'python', 'n2':'java', 'n3':'ruby'}\n",
    "print(add(**d))"
   ]
  },
  {
   "cell_type": "markdown",
   "metadata": {},
   "source": [
    "## Recursive functions"
   ]
  },
  {
   "cell_type": "code",
   "execution_count": 58,
   "metadata": {},
   "outputs": [
    {
     "name": "stdout",
     "output_type": "stream",
     "text": [
      "120\n",
      "False\n"
     ]
    }
   ],
   "source": [
    "# recursive function example\n",
    "\n",
    "def factorial(n):\n",
    "    if n == 1 or n == 0:\n",
    "        return 1\n",
    "    else:\n",
    "        return n * factorial(n - 1)\n",
    "    \n",
    "print(factorial(5))\n",
    "\n",
    "# binary search\n",
    "def binary_search(l, key):\n",
    "    if(len(l) == 0):\n",
    "        return False\n",
    "    else:\n",
    "        mid = len(l) // 2\n",
    "        if(key == l[mid]):\n",
    "            return True\n",
    "        elif(key < l[mid]):\n",
    "            return binary_search(l[:mid], key)\n",
    "        else:\n",
    "            return binary_search(l[mid+1:], key)\n",
    "\n",
    "print(binary_search([1,2,3,4,5,6,7,8,9], 10))"
   ]
  },
  {
   "cell_type": "markdown",
   "metadata": {},
   "source": [
    "# Creating packages and modules\n",
    "\n",
    "1. As soon as we import a module, python will execute the entire module, optimize it and store it in a folder called __pycache__ in the same folder.\n",
    "2. To every module, it itself is the main module. So that, __name__ of that module will be __main__. This enables us to execute certain functions only when the module is the main module.\n",
    "\n",
    "While creating a module, anything written within triple quotes acts as description of the module (if written at the very top of the file) or of the respective functions (if written within function definition block).\n",
    "\n",
    "__init__.py written in any file will make the directory a python package."
   ]
  }
 ],
 "metadata": {
  "kernelspec": {
   "display_name": "Python 3",
   "language": "python",
   "name": "python3"
  },
  "language_info": {
   "codemirror_mode": {
    "name": "ipython",
    "version": 3
   },
   "file_extension": ".py",
   "mimetype": "text/x-python",
   "name": "python",
   "nbconvert_exporter": "python",
   "pygments_lexer": "ipython3",
   "version": "3.7.4"
  }
 },
 "nbformat": 4,
 "nbformat_minor": 2
}
