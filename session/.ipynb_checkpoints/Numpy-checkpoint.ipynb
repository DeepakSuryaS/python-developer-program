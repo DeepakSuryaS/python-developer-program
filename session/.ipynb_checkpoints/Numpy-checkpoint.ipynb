{
 "cells": [
  {
   "cell_type": "markdown",
   "metadata": {},
   "source": [
    "# Numpy\n",
    "\n",
    "- A multi-dimensional array library\n",
    "    - you can store 1D, 2D, 3D, 4D... arrays\n",
    "\n",
    "\n",
    "#### Lists vs Numpy:\n",
    "- Lists are very slow\n",
    "    - Numpy is fast because it uses fixed types\n",
    "- Lists store data such as size (4 bytes), reference object (8 bytes (long)), object type (long), and object value (long) when storing a value a list (so totally 28 bytes to store one  value)\n",
    "    - Numpy casts the value alone to an int32 type(4 bytes) be default (can change it to 16 or 8 manually)\n",
    "- Numpy uses less bytes of memory so it's easy and fast to read\n",
    "- In Numpy, there's no typing checking when iterating through objects\n",
    "- Lists are scattered around in memory. So, a list essentially contains pointers to the values that are intending to be members of the list. It's not super fast to jump around often.\n",
    "    - Numpy utilizes contiguous memory\n",
    "    - Benefits of contiguous memory include:\n",
    "        - SIMD vector processing (single instruction multiple data)\n",
    "        - Effective cache utilization\n",
    "- we can insertion, deletion, appending, concatenation etc in both lists and numpy but numpy can do more.\n",
    "\n",
    "#### Applications of Numpy:\n",
    "- Mathematics (MATLAB replacement)\n",
    "- Plotting (Matplotlib)\n",
    "- Backend of Pandas, Connect 4, Digital Photography etc\n",
    "- Machine learning (directly and indirectly (through tensor libraries))\n"
   ]
  },
  {
   "cell_type": "code",
   "execution_count": 1,
   "metadata": {},
   "outputs": [],
   "source": [
    "import numpy as np"
   ]
  },
  {
   "cell_type": "markdown",
   "metadata": {},
   "source": [
    "## The basics"
   ]
  },
  {
   "cell_type": "code",
   "execution_count": 14,
   "metadata": {},
   "outputs": [
    {
     "name": "stdout",
     "output_type": "stream",
     "text": [
      "a:\n",
      " [1 2 3]\n",
      "b:\n",
      " [[9. 8. 7.]\n",
      " [6. 5. 4.]]\n",
      "c:\n",
      " [1 2 3]\n",
      "d:\n",
      " ['1' '2.0' '3']\n"
     ]
    }
   ],
   "source": [
    "# initializing arrays\n",
    "\n",
    "a = np.array([1,2,3])\n",
    "print('a:\\n', a)\n",
    "\n",
    "b = np.array([[9.0, 8.0, 7.0], [6.0, 5.0, 4.0]])\n",
    "print('b:\\n', b)\n",
    "\n",
    "c = np.array([1, 2.0, 3], dtype='int16')\n",
    "print('c:\\n', c)\n",
    "\n",
    "d = np.array([1, 2.0, 3], dtype='str')\n",
    "print('d:\\n', d)"
   ]
  },
  {
   "cell_type": "code",
   "execution_count": 15,
   "metadata": {},
   "outputs": [
    {
     "name": "stdout",
     "output_type": "stream",
     "text": [
      "a: 1\n",
      "b: 2\n",
      "c: 1\n"
     ]
    }
   ],
   "source": [
    "# get dimensions\n",
    "\n",
    "print('a:', a.ndim)\n",
    "print('b:', b.ndim)\n",
    "print('c:', c.ndim)"
   ]
  },
  {
   "cell_type": "code",
   "execution_count": 9,
   "metadata": {},
   "outputs": [
    {
     "name": "stdout",
     "output_type": "stream",
     "text": [
      "a: (3,)\n",
      "b: (2, 3)\n"
     ]
    }
   ],
   "source": [
    "# get shape\n",
    "# (rows, columns)\n",
    "\n",
    "print('a:', a.shape)\n",
    "print('b:', b.shape)"
   ]
  },
  {
   "cell_type": "code",
   "execution_count": 16,
   "metadata": {},
   "outputs": [
    {
     "name": "stdout",
     "output_type": "stream",
     "text": [
      "a: int64\n",
      "b: float64\n",
      "c: int16\n",
      "d: <U3\n"
     ]
    }
   ],
   "source": [
    "# Get type\n",
    "\n",
    "print('a:', a.dtype)\n",
    "print('b:', b.dtype)\n",
    "print('c:', c.dtype)\n",
    "print('d:', d.dtype)"
   ]
  },
  {
   "cell_type": "code",
   "execution_count": 22,
   "metadata": {},
   "outputs": [
    {
     "name": "stdout",
     "output_type": "stream",
     "text": [
      "a: 8\n",
      "b: 8\n",
      "c: 2\n",
      "d: 12\n",
      "a: 3\n",
      "total size of a: 24\n",
      "nbytes (total size): 24\n"
     ]
    }
   ],
   "source": [
    "# get size\n",
    "\n",
    "print('a:', a.itemsize) # itemsize gives the memory size of one item in the array\n",
    "print('b:', b.itemsize)\n",
    "print('c:', c.itemsize)\n",
    "print('d:', d.itemsize)\n",
    "\n",
    "print('a:', a.size) # size gives the number of elements\n",
    "\n",
    "print('total size of a:', a.size * a.itemsize)\n",
    "print('nbytes (total size):', a.nbytes)"
   ]
  },
  {
   "cell_type": "markdown",
   "metadata": {},
   "source": [
    "## Accessing/changind specific elements, rows, columns, etc"
   ]
  },
  {
   "cell_type": "code",
   "execution_count": 24,
   "metadata": {},
   "outputs": [
    {
     "name": "stdout",
     "output_type": "stream",
     "text": [
      "13\n",
      "13\n"
     ]
    }
   ],
   "source": [
    "a = np.array([[1,2,3,4,5,6,7], [8,9,10,11,12,13,14]]) # (2, 7) array\n",
    "\n",
    "# get specific element [r, c]\n",
    "print(a[1,5]) # get 13\n",
    "print(a[1,-2]) # get 13\n"
   ]
  },
  {
   "cell_type": "code",
   "execution_count": 25,
   "metadata": {},
   "outputs": [
    {
     "name": "stdout",
     "output_type": "stream",
     "text": [
      "[1 2 3 4 5 6 7]\n"
     ]
    }
   ],
   "source": [
    "# get specific row\n",
    "\n",
    "print(a[0, :]) # means, first row and all the columns"
   ]
  },
  {
   "cell_type": "code",
   "execution_count": 26,
   "metadata": {},
   "outputs": [
    {
     "name": "stdout",
     "output_type": "stream",
     "text": [
      "[ 3 10]\n"
     ]
    }
   ],
   "source": [
    "# get specific column\n",
    "\n",
    "print(a[:, 2]) # means, all the rows and 3rd column"
   ]
  },
  {
   "cell_type": "code",
   "execution_count": 27,
   "metadata": {},
   "outputs": [
    {
     "name": "stdout",
     "output_type": "stream",
     "text": [
      "[2 4 6]\n"
     ]
    }
   ],
   "source": [
    "# getting a little more fancy [startindex:endindex:stepsize]\n",
    "\n",
    "print(a[0, 1:6:2])"
   ]
  },
  {
   "cell_type": "code",
   "execution_count": 30,
   "metadata": {},
   "outputs": [
    {
     "name": "stdout",
     "output_type": "stream",
     "text": [
      "[[ 1  2  5  4  5  6  7]\n",
      " [ 8  9  5 11 12 20 14]]\n",
      "[[ 1  2  5  4  5  6  7]\n",
      " [ 8  9  5 11 12 20 14]]\n",
      "[[  1   2 100   4   5   6   7]\n",
      " [  8   9 200  11  12  20  14]]\n"
     ]
    }
   ],
   "source": [
    "# altering elements\n",
    "\n",
    "a[1,5] = 20\n",
    "print(a)\n",
    "\n",
    "a[:,2] = 5 # every specified element becomes 5\n",
    "print(a)\n",
    "\n",
    "a[:,2] = [100,200] # respective\n",
    "print(a)"
   ]
  },
  {
   "cell_type": "markdown",
   "metadata": {},
   "source": [
    "#### 3D example"
   ]
  },
  {
   "cell_type": "code",
   "execution_count": 38,
   "metadata": {},
   "outputs": [
    {
     "name": "stdout",
     "output_type": "stream",
     "text": [
      "[[[1 2]\n",
      "  [3 4]]\n",
      "\n",
      " [[5 6]\n",
      "  [7 8]]]\n",
      "4\n",
      "[[3 4]\n",
      " [7 8]]\n",
      "\n",
      "h:\n",
      " [[[1 2]\n",
      "  [9 9]]\n",
      "\n",
      " [[5 6]\n",
      "  [8 8]]]\n"
     ]
    }
   ],
   "source": [
    "h = np.array([[[1,2], [3,4]], [[5,6], [7,8]]])\n",
    "print(h)\n",
    "print(h[0,1,1])\n",
    "print(h[:,1,:])\n",
    "\n",
    "h[:,1,:] = [[9,9], [8,8]] # assignment should be of the same dimension\n",
    "print('\\nh:\\n', h)"
   ]
  },
  {
   "cell_type": "markdown",
   "metadata": {},
   "source": [
    "#### Initializing all sorts of arrays"
   ]
  },
  {
   "cell_type": "code",
   "execution_count": 43,
   "metadata": {},
   "outputs": [
    {
     "name": "stdout",
     "output_type": "stream",
     "text": [
      "[0. 0. 0. 0. 0.]\n",
      "[[0. 0. 0.]\n",
      " [0. 0. 0.]]\n",
      "[[[[0. 0.]\n",
      "   [0. 0.]\n",
      "   [0. 0.]]\n",
      "\n",
      "  [[0. 0.]\n",
      "   [0. 0.]\n",
      "   [0. 0.]]\n",
      "\n",
      "  [[0. 0.]\n",
      "   [0. 0.]\n",
      "   [0. 0.]]]\n",
      "\n",
      "\n",
      " [[[0. 0.]\n",
      "   [0. 0.]\n",
      "   [0. 0.]]\n",
      "\n",
      "  [[0. 0.]\n",
      "   [0. 0.]\n",
      "   [0. 0.]]\n",
      "\n",
      "  [[0. 0.]\n",
      "   [0. 0.]\n",
      "   [0. 0.]]]]\n"
     ]
    }
   ],
   "source": [
    "# all 0s matrix\n",
    "\n",
    "a = np.zeros(5) # 1D\n",
    "b = np.zeros((2,3))\n",
    "c = np.zeros((2,3,3,2))\n",
    "print(a)\n",
    "print(b)\n",
    "print(c)"
   ]
  },
  {
   "cell_type": "code",
   "execution_count": 46,
   "metadata": {},
   "outputs": [
    {
     "name": "stdout",
     "output_type": "stream",
     "text": [
      "[[[1 1]\n",
      "  [1 1]]\n",
      "\n",
      " [[1 1]\n",
      "  [1 1]]\n",
      "\n",
      " [[1 1]\n",
      "  [1 1]]\n",
      "\n",
      " [[1 1]\n",
      "  [1 1]]]\n"
     ]
    }
   ],
   "source": [
    "# all 1s\n",
    "\n",
    "a = np.ones((4,2,2), dtype=\"int32\")\n",
    "print(a)"
   ]
  },
  {
   "cell_type": "code",
   "execution_count": 47,
   "metadata": {},
   "outputs": [
    {
     "name": "stdout",
     "output_type": "stream",
     "text": [
      "[[99 99]\n",
      " [99 99]]\n"
     ]
    }
   ],
   "source": [
    "# any other number\n",
    "\n",
    "a = np.full((2,2), 99) # full(shape, number)\n",
    "print(a)"
   ]
  },
  {
   "cell_type": "code",
   "execution_count": 49,
   "metadata": {},
   "outputs": [
    {
     "name": "stdout",
     "output_type": "stream",
     "text": [
      "[[4 4 4 4 4 4 4]\n",
      " [4 4 4 4 4 4 4]]\n"
     ]
    }
   ],
   "source": [
    "# full like\n",
    "\n",
    "j = np.array([[1,2,3,4,5,6,7], [8,9,10,11,12,13,14]])\n",
    "\n",
    "t = np.full_like(j, 4) # same as np.full(j.shape, 4)\n",
    "print(t)"
   ]
  },
  {
   "cell_type": "code",
   "execution_count": 55,
   "metadata": {},
   "outputs": [
    {
     "name": "stdout",
     "output_type": "stream",
     "text": [
      "[[[0.58968325 0.6472798  0.12923995]\n",
      "  [0.21045758 0.51877959 0.26417158]\n",
      "  [0.83291705 0.43166203 0.00438546]\n",
      "  [0.66164743 0.04576099 0.92854254]]\n",
      "\n",
      " [[0.48455293 0.88673045 0.55684389]\n",
      "  [0.62814183 0.90036529 0.78152751]\n",
      "  [0.20112054 0.49270769 0.22649105]\n",
      "  [0.90786112 0.438601   0.9303546 ]]]\n",
      "\n",
      "\n",
      " [[0.73183621 0.87629915 0.4480396  0.54183679 0.49729587 0.49462735\n",
      "  0.27976394]\n",
      " [0.58260497 0.26458464 0.58644358 0.44381474 0.860813   0.85720642\n",
      "  0.83851797]]\n"
     ]
    }
   ],
   "source": [
    "# random decimal numbers\n",
    "\n",
    "i = np.random.rand(2,4,3)\n",
    "print(i)\n",
    "\n",
    "p = np.random.random_sample(j.shape)\n",
    "print('\\n\\n', p)"
   ]
  },
  {
   "cell_type": "code",
   "execution_count": 58,
   "metadata": {},
   "outputs": [
    {
     "name": "stdout",
     "output_type": "stream",
     "text": [
      "[[3 3 4]\n",
      " [0 1 6]\n",
      " [3 6 1]]\n",
      "[[-2  6  0]\n",
      " [ 3 -1  4]\n",
      " [ 0  0  6]]\n"
     ]
    }
   ],
   "source": [
    "# random integers\n",
    "\n",
    "o = np.random.randint(7, size=(3,3))\n",
    "print(o)\n",
    "\n",
    "o = np.random.randint(-3, 7, size=(3,3))\n",
    "print(o)"
   ]
  },
  {
   "cell_type": "code",
   "execution_count": 60,
   "metadata": {},
   "outputs": [
    {
     "name": "stdout",
     "output_type": "stream",
     "text": [
      "[[1. 0. 0.]\n",
      " [0. 1. 0.]\n",
      " [0. 0. 1.]]\n"
     ]
    }
   ],
   "source": [
    "# identity matrix\n",
    "\n",
    "v = np.identity(3)\n",
    "print(v)"
   ]
  },
  {
   "cell_type": "code",
   "execution_count": 61,
   "metadata": {},
   "outputs": [
    {
     "name": "stdout",
     "output_type": "stream",
     "text": [
      "[[1 2 3]\n",
      " [1 2 3]\n",
      " [1 2 3]]\n",
      "\n",
      "\n",
      "\n",
      " [1 1 1 2 2 2 3 3 3]\n"
     ]
    }
   ],
   "source": [
    "# repeat an array\n",
    "a = np.array([[1,2,3]])\n",
    "q = np.repeat(a, 3, axis=0)\n",
    "print(q)\n",
    "q = np.repeat(a, 3) # axis=1\n",
    "print('\\n\\n\\n', q)"
   ]
  },
  {
   "cell_type": "code",
   "execution_count": 65,
   "metadata": {},
   "outputs": [
    {
     "name": "stdout",
     "output_type": "stream",
     "text": [
      "[[1. 1. 1. 1. 1.]\n",
      " [1. 1. 1. 1. 1.]\n",
      " [1. 1. 1. 1. 1.]\n",
      " [1. 1. 1. 1. 1.]\n",
      " [1. 1. 1. 1. 1.]]\n",
      "[[0. 0. 0.]\n",
      " [0. 0. 0.]\n",
      " [0. 0. 0.]]\n",
      "[[0. 0. 0.]\n",
      " [0. 9. 0.]\n",
      " [0. 0. 0.]]\n",
      "[[1. 1. 1. 1. 1.]\n",
      " [1. 0. 0. 0. 1.]\n",
      " [1. 0. 9. 0. 1.]\n",
      " [1. 0. 0. 0. 1.]\n",
      " [1. 1. 1. 1. 1.]]\n"
     ]
    }
   ],
   "source": [
    "# challenge\n",
    "\n",
    "\n",
    "result = np.ones((5,5))\n",
    "print(result)\n",
    "\n",
    "z = np.zeros((3,3))\n",
    "print(z)\n",
    "z[1,1] = 9\n",
    "print(z)\n",
    "\n",
    "result[1:4, 1:4] = z\n",
    "print(result)"
   ]
  },
  {
   "cell_type": "markdown",
   "metadata": {},
   "source": [
    "## Mathematics"
   ]
  },
  {
   "cell_type": "code",
   "execution_count": 73,
   "metadata": {},
   "outputs": [
    {
     "name": "stdout",
     "output_type": "stream",
     "text": [
      "[1 2 3 4]\n",
      "[3 4 5 6]\n",
      "[-1  0  1  2]\n",
      "[2 4 6 8]\n",
      "[0.5 1.  1.5 2. ]\n",
      "[ 1  4  9 16]\n",
      "[2 2 4 4]\n",
      "[ 0.84147098  0.90929743  0.14112001 -0.7568025 ]\n"
     ]
    }
   ],
   "source": [
    "a = np.array([1,2,3,4])\n",
    "print(a)\n",
    "print(a+2)\n",
    "print(a-2)\n",
    "print(a*2)\n",
    "print(a/2)\n",
    "print(a**2)\n",
    "\n",
    "a = np.array([1,2,3,4])\n",
    "b = np.array([1,0,1,0])\n",
    "print(a+b)\n",
    "\n",
    "print(np.sin(a))"
   ]
  },
  {
   "cell_type": "markdown",
   "metadata": {},
   "source": [
    "### Linear algebra"
   ]
  },
  {
   "cell_type": "code",
   "execution_count": 75,
   "metadata": {},
   "outputs": [
    {
     "name": "stdout",
     "output_type": "stream",
     "text": [
      "[[1. 1. 1.]\n",
      " [1. 1. 1.]]\n",
      "[[2 2]\n",
      " [2 2]\n",
      " [2 2]]\n",
      "[[6. 6.]\n",
      " [6. 6.]]\n"
     ]
    }
   ],
   "source": [
    "# matrix multiplication\n",
    "\n",
    "a = np.ones((2,3))\n",
    "print(a)\n",
    "b = np.full((3,2), 2)\n",
    "print(b)\n",
    "\n",
    "print(np.matmul(a,b)) # mxn rule"
   ]
  },
  {
   "cell_type": "code",
   "execution_count": 77,
   "metadata": {},
   "outputs": [
    {
     "name": "stdout",
     "output_type": "stream",
     "text": [
      "1.0\n"
     ]
    }
   ],
   "source": [
    "# determinant\n",
    "\n",
    "q = np.identity(3) # determinant of identity matrix is 1\n",
    "print(np.linalg.det(q))"
   ]
  },
  {
   "cell_type": "code",
   "execution_count": null,
   "metadata": {},
   "outputs": [],
   "source": [
    "## reference docs -> https://docs.scipy.org/doc/numpy/reference/routines.linalg.html\n",
    "\n",
    "# determinant\n",
    "# trace\n",
    "# singular vector decomposition\n",
    "# eigen values\n",
    "# matrix norm\n",
    "# inverse etc"
   ]
  },
  {
   "cell_type": "markdown",
   "metadata": {},
   "source": [
    "### Statistics"
   ]
  },
  {
   "cell_type": "code",
   "execution_count": 79,
   "metadata": {},
   "outputs": [
    {
     "name": "stdout",
     "output_type": "stream",
     "text": [
      "[[1 2 3]\n",
      " [4 5 6]]\n"
     ]
    }
   ],
   "source": [
    "stats = np.array([[1,2,3], [4,5,6]])\n",
    "print(stats)"
   ]
  },
  {
   "cell_type": "code",
   "execution_count": 85,
   "metadata": {},
   "outputs": [
    {
     "name": "stdout",
     "output_type": "stream",
     "text": [
      "1\n",
      "6\n",
      "[1 4]\n",
      "21\n"
     ]
    }
   ],
   "source": [
    "print(np.min(stats))\n",
    "print(np.max(stats))\n",
    "print(np.min(stats, axis=1)) # gives min of all the rows whereas axis=0 will give min of all columns\n",
    "print(np.sum(stats)) # sum all elements. axis can be used here too."
   ]
  },
  {
   "cell_type": "markdown",
   "metadata": {},
   "source": [
    "#### Reorganizing arrays"
   ]
  },
  {
   "cell_type": "code",
   "execution_count": 88,
   "metadata": {},
   "outputs": [
    {
     "name": "stdout",
     "output_type": "stream",
     "text": [
      "[[1 2 3 4]\n",
      " [5 6 7 8]]\n",
      "[[1 2]\n",
      " [3 4]\n",
      " [5 6]\n",
      " [7 8]]\n",
      "[[1]\n",
      " [2]\n",
      " [3]\n",
      " [4]\n",
      " [5]\n",
      " [6]\n",
      " [7]\n",
      " [8]]\n",
      "[[[1 2]\n",
      "  [3 4]]\n",
      "\n",
      " [[5 6]\n",
      "  [7 8]]]\n"
     ]
    },
    {
     "ename": "ValueError",
     "evalue": "cannot reshape array of size 8 into shape (2,3)",
     "output_type": "error",
     "traceback": [
      "\u001b[0;31m---------------------------------------------------------------------------\u001b[0m",
      "\u001b[0;31mValueError\u001b[0m                                Traceback (most recent call last)",
      "\u001b[0;32m<ipython-input-88-8f6bc0452531>\u001b[0m in \u001b[0;36m<module>\u001b[0;34m\u001b[0m\n\u001b[1;32m      8\u001b[0m \u001b[0mafter\u001b[0m \u001b[0;34m=\u001b[0m \u001b[0mbefore\u001b[0m\u001b[0;34m.\u001b[0m\u001b[0mreshape\u001b[0m\u001b[0;34m(\u001b[0m\u001b[0;34m(\u001b[0m\u001b[0;36m2\u001b[0m\u001b[0;34m,\u001b[0m\u001b[0;36m2\u001b[0m\u001b[0;34m,\u001b[0m\u001b[0;36m2\u001b[0m\u001b[0;34m)\u001b[0m\u001b[0;34m)\u001b[0m\u001b[0;34m\u001b[0m\u001b[0;34m\u001b[0m\u001b[0m\n\u001b[1;32m      9\u001b[0m \u001b[0mprint\u001b[0m\u001b[0;34m(\u001b[0m\u001b[0mafter\u001b[0m\u001b[0;34m)\u001b[0m\u001b[0;34m\u001b[0m\u001b[0;34m\u001b[0m\u001b[0m\n\u001b[0;32m---> 10\u001b[0;31m \u001b[0mafter\u001b[0m \u001b[0;34m=\u001b[0m \u001b[0mbefore\u001b[0m\u001b[0;34m.\u001b[0m\u001b[0mreshape\u001b[0m\u001b[0;34m(\u001b[0m\u001b[0;34m(\u001b[0m\u001b[0;36m2\u001b[0m\u001b[0;34m,\u001b[0m\u001b[0;36m3\u001b[0m\u001b[0;34m)\u001b[0m\u001b[0;34m)\u001b[0m\u001b[0;34m\u001b[0m\u001b[0;34m\u001b[0m\u001b[0m\n\u001b[0m\u001b[1;32m     11\u001b[0m \u001b[0mprint\u001b[0m\u001b[0;34m(\u001b[0m\u001b[0mafter\u001b[0m\u001b[0;34m)\u001b[0m\u001b[0;34m\u001b[0m\u001b[0;34m\u001b[0m\u001b[0m\n",
      "\u001b[0;31mValueError\u001b[0m: cannot reshape array of size 8 into shape (2,3)"
     ]
    }
   ],
   "source": [
    "before = np.array([[1,2,3,4], [5,6,7,8]])\n",
    "print(before)\n",
    "\n",
    "after = before.reshape((4,2))\n",
    "print(after)\n",
    "after = before.reshape((8,1))\n",
    "print(after)\n",
    "after = before.reshape((2,2,2))\n",
    "print(after)\n",
    "after = before.reshape((2,3)) # mismatch shape\n",
    "print(after)"
   ]
  },
  {
   "cell_type": "code",
   "execution_count": 91,
   "metadata": {},
   "outputs": [
    {
     "name": "stdout",
     "output_type": "stream",
     "text": [
      "[[1 2 3 4]\n",
      " [5 6 7 8]]\n",
      "[[1 2 3 4]\n",
      " [5 6 7 8]\n",
      " [5 6 7 8]\n",
      " [5 6 7 8]\n",
      " [1 2 3 4]]\n"
     ]
    }
   ],
   "source": [
    "# vertical stacking vectors\n",
    "\n",
    "v1 = np.array([1,2,3,4])\n",
    "v2 = np.array([5,6,7,8])\n",
    "\n",
    "print(np.vstack([v1,v2]))\n",
    "\n",
    "print(np.vstack([v1,v2,v2,v2,v1]))"
   ]
  },
  {
   "cell_type": "code",
   "execution_count": 93,
   "metadata": {},
   "outputs": [
    {
     "name": "stdout",
     "output_type": "stream",
     "text": [
      "[[1. 1. 1. 1. 0. 0.]\n",
      " [1. 1. 1. 1. 0. 0.]]\n"
     ]
    }
   ],
   "source": [
    "# horizontal stacking vectors\n",
    "\n",
    "h1 = np.ones((2,4))\n",
    "h2 = np.zeros((2,2))\n",
    "\n",
    "print(np.hstack((h1,h2)))"
   ]
  },
  {
   "cell_type": "markdown",
   "metadata": {},
   "source": [
    "# Miscellaneous"
   ]
  },
  {
   "cell_type": "code",
   "execution_count": null,
   "metadata": {},
   "outputs": [],
   "source": [
    "# load from file\n",
    "# have a file with values seperated with comma\n",
    "\n",
    "filedata = np.genfromtxt('data.txt', delimiter=',')\n",
    "# print(filedata)\n",
    "filedata1 = filedata.astype('int32')\n",
    "print(filedata1)"
   ]
  },
  {
   "cell_type": "code",
   "execution_count": null,
   "metadata": {},
   "outputs": [],
   "source": [
    "# boolean masking and advanced indexing\n",
    "\n",
    "print(filedata > 50)\n",
    "print(filedata[filedata > 50])\n",
    "\n",
    "a = np.array([1,2,3,4,5,6,7,8,9])\n",
    "print(a[1,2,8])\n",
    "\n",
    "\n",
    "print(np.any(filedata > 50, axis=0))\n",
    "print(np.all(filedata > 50, axis=0))\n",
    "\n",
    "\n",
    "print(((filedata > 50) & (filedata < 100)))\n",
    "print(~((filedata > 50) & (filedata < 100)))"
   ]
  }
 ],
 "metadata": {
  "kernelspec": {
   "display_name": "Python 3",
   "language": "python",
   "name": "python3"
  },
  "language_info": {
   "codemirror_mode": {
    "name": "ipython",
    "version": 3
   },
   "file_extension": ".py",
   "mimetype": "text/x-python",
   "name": "python",
   "nbconvert_exporter": "python",
   "pygments_lexer": "ipython3",
   "version": "3.7.4"
  }
 },
 "nbformat": 4,
 "nbformat_minor": 2
}
